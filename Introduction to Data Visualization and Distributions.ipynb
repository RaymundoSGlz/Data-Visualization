{
 "cells": [
  {
   "attachments": {},
   "cell_type": "markdown",
   "metadata": {},
   "source": [
    "# Sección 1: Introducción a la Visualización de datos y a las distribuciones"
   ]
  },
  {
   "attachments": {},
   "cell_type": "markdown",
   "metadata": {},
   "source": [
    "## 1.1 Introducción a la visualización de datos"
   ]
  },
  {
   "attachments": {},
   "cell_type": "markdown",
   "metadata": {},
   "source": [
    "### Introducción a la visualización de datos"
   ]
  },
  {
   "attachments": {},
   "cell_type": "markdown",
   "metadata": {},
   "source": [
    "Raras veces es útil mirar los números y las cadenas de caracteres que definen un set de datos. Para confirmar esto, observemos la tabla de datos de asesinatos de Estados Unidos:"
   ]
  },
  {
   "cell_type": "code",
   "execution_count": 1,
   "metadata": {
    "vscode": {
     "languageId": "r"
    }
   },
   "outputs": [
    {
     "data": {
      "text/html": [
       "<table class=\"dataframe\">\n",
       "<caption>A data.frame: 6 × 5</caption>\n",
       "<thead>\n",
       "\t<tr><th></th><th scope=col>state</th><th scope=col>abb</th><th scope=col>region</th><th scope=col>population</th><th scope=col>total</th></tr>\n",
       "\t<tr><th></th><th scope=col>&lt;chr&gt;</th><th scope=col>&lt;chr&gt;</th><th scope=col>&lt;fct&gt;</th><th scope=col>&lt;dbl&gt;</th><th scope=col>&lt;dbl&gt;</th></tr>\n",
       "</thead>\n",
       "<tbody>\n",
       "\t<tr><th scope=row>1</th><td>Alabama   </td><td>AL</td><td>South</td><td> 4779736</td><td> 135</td></tr>\n",
       "\t<tr><th scope=row>2</th><td>Alaska    </td><td>AK</td><td>West </td><td>  710231</td><td>  19</td></tr>\n",
       "\t<tr><th scope=row>3</th><td>Arizona   </td><td>AZ</td><td>West </td><td> 6392017</td><td> 232</td></tr>\n",
       "\t<tr><th scope=row>4</th><td>Arkansas  </td><td>AR</td><td>South</td><td> 2915918</td><td>  93</td></tr>\n",
       "\t<tr><th scope=row>5</th><td>California</td><td>CA</td><td>West </td><td>37253956</td><td>1257</td></tr>\n",
       "\t<tr><th scope=row>6</th><td>Colorado  </td><td>CO</td><td>West </td><td> 5029196</td><td>  65</td></tr>\n",
       "</tbody>\n",
       "</table>\n"
      ],
      "text/latex": [
       "A data.frame: 6 × 5\n",
       "\\begin{tabular}{r|lllll}\n",
       "  & state & abb & region & population & total\\\\\n",
       "  & <chr> & <chr> & <fct> & <dbl> & <dbl>\\\\\n",
       "\\hline\n",
       "\t1 & Alabama    & AL & South &  4779736 &  135\\\\\n",
       "\t2 & Alaska     & AK & West  &   710231 &   19\\\\\n",
       "\t3 & Arizona    & AZ & West  &  6392017 &  232\\\\\n",
       "\t4 & Arkansas   & AR & South &  2915918 &   93\\\\\n",
       "\t5 & California & CA & West  & 37253956 & 1257\\\\\n",
       "\t6 & Colorado   & CO & West  &  5029196 &   65\\\\\n",
       "\\end{tabular}\n"
      ],
      "text/markdown": [
       "\n",
       "A data.frame: 6 × 5\n",
       "\n",
       "| <!--/--> | state &lt;chr&gt; | abb &lt;chr&gt; | region &lt;fct&gt; | population &lt;dbl&gt; | total &lt;dbl&gt; |\n",
       "|---|---|---|---|---|---|\n",
       "| 1 | Alabama    | AL | South |  4779736 |  135 |\n",
       "| 2 | Alaska     | AK | West  |   710231 |   19 |\n",
       "| 3 | Arizona    | AZ | West  |  6392017 |  232 |\n",
       "| 4 | Arkansas   | AR | South |  2915918 |   93 |\n",
       "| 5 | California | CA | West  | 37253956 | 1257 |\n",
       "| 6 | Colorado   | CO | West  |  5029196 |   65 |\n",
       "\n"
      ],
      "text/plain": [
       "  state      abb region population total\n",
       "1 Alabama    AL  South   4779736    135 \n",
       "2 Alaska     AK  West     710231     19 \n",
       "3 Arizona    AZ  West    6392017    232 \n",
       "4 Arkansas   AR  South   2915918     93 \n",
       "5 California CA  West   37253956   1257 \n",
       "6 Colorado   CO  West    5029196     65 "
      ]
     },
     "metadata": {},
     "output_type": "display_data"
    }
   ],
   "source": [
    "library(dslabs)\n",
    "data(murders)\n",
    "head(murders)"
   ]
  },
  {
   "attachments": {},
   "cell_type": "markdown",
   "metadata": {},
   "source": [
    "Es bastante difícil extraer información relevante simplemente mirando los números.\n",
    "En cambio, dicha información podemos mostrarla fácilmente disponibles al presentarla en forma gráfica.\n",
    "\n",
    "La visualización de datos ofrece una forma muy efectiva de comunicar hallazgos basados en datos. En algunos casos, la visualización es tan convincente que no requiere un análisis de seguimiento.\n"
   ]
  },
  {
   "attachments": {},
   "cell_type": "markdown",
   "metadata": {},
   "source": [
    "### Introducción a las distribuciones"
   ]
  },
  {
   "attachments": {},
   "cell_type": "markdown",
   "metadata": {},
   "source": [
    "Los datos numéricos a menudo se resumen con el valor promedio. Por ejemplo, la calidad de una escuela secundaria a veces se resume con un solo número: la puntuación promedio\n",
    "en una prueba estandarizada. Ocasionalmente, se incluye un segundo número: la desviación estándar. Por ejemplo, pueden leer un informe que indique que las puntuaciones fueron 680\n",
    "más o menos 50 (la desviación estándar). El informe ha resumido un vector completo de puntuaciones con solo dos números. ¿Es esto apropiado? ¿Hay alguna información importante\n",
    "que no estamos considerando al ver este resumen en lugar de la lista completa?\n",
    "\n",
    "Nuestro primer componente básico de visualización de datos es aprender a resumir listas de factores o vectores numéricos. Generalmente, la mejor manera de compartir o explorar\n",
    "este resumen es a través de la visualización de datos. El resumen estadístico más básico de una lista de objetos o números es su distribución. Una vez que un vector se haya resumido\n",
    "como una distribución, existen varias técnicas de visualización de datos para transmitir esta información de manera efectiva."
   ]
  },
  {
   "attachments": {},
   "cell_type": "markdown",
   "metadata": {},
   "source": [
    "### Tipos de variables"
   ]
  },
  {
   "attachments": {},
   "cell_type": "markdown",
   "metadata": {},
   "source": [
    "Los dos tipos principales de variables son:\n",
    "\n",
    "* Categóricas: son variables definidas por un pequeño número de grupos.\n",
    "    *  Ordinales: se pueden ordenar aunque no sean números, por ejemplo cuán picante es una comida (poco, medio, muy)\n",
    "    * No ordinales: no tienen orden en las categorías.\n",
    "* Datos numéricos: toman una variedad de valores numéricos.\n",
    "    * Continuas: pueden tomar cualquier valor.\n",
    "    * Discretas: se limitan a conjuntos de valores específicos."
   ]
  },
  {
   "attachments": {},
   "cell_type": "markdown",
   "metadata": {},
   "source": [
    "## Evaluación 1.1: Tipos de datos"
   ]
  },
  {
   "attachments": {},
   "cell_type": "markdown",
   "metadata": {},
   "source": [
    "### Ejercicio 1. Nombres de variables\n",
    "\n",
    "El tipo de datos con los que estamos trabajando a menudo influirá en la técnica de visualización de datos que utilizamos. Trabajaremos con dos tipos de variables: categóricas y numéricas. Cada uno se puede dividir en otros dos grupos: categórico puede ser ordinal o no, mientras que las variables numéricas pueden ser discretas o continuas.\n",
    "\n",
    "Revisaremos los tipos de datos utilizando algunos de los ejemplos proporcionados en el paquete `dslabs`. Por ejemplo, el conjunto de datos de `alturas`."
   ]
  },
  {
   "attachments": {},
   "cell_type": "markdown",
   "metadata": {},
   "source": [
    "Instrucciones:\n",
    "\n",
    "Comencemos revisando cómo extraer los nombres de variables de un conjunto de datos utilizando la función `names`. ¿Cuáles son los dos nombres de variable utilizados en el dataset de `heights`?"
   ]
  },
  {
   "cell_type": "code",
   "execution_count": 2,
   "metadata": {
    "vscode": {
     "languageId": "r"
    }
   },
   "outputs": [
    {
     "name": "stdout",
     "output_type": "stream",
     "text": [
      "[1] \"sex\"    \"height\"\n"
     ]
    }
   ],
   "source": [
    "source(\"Scripts/1-1/Ejercicio1.R\", print.eval = TRUE)"
   ]
  },
  {
   "attachments": {},
   "cell_type": "markdown",
   "metadata": {},
   "source": [
    "### Ejercicio 2. Tipo de variable\n",
    "Vimos que `sex` es la primera variable. Sabemos qué valores están representados por esta variable y podemos confirmarlo mirando los primeros enteros:"
   ]
  },
  {
   "attachments": {},
   "cell_type": "markdown",
   "metadata": {},
   "source": [
    "¿Qué tipo de datos es la variable de `sex`?"
   ]
  },
  {
   "cell_type": "code",
   "execution_count": 3,
   "metadata": {
    "vscode": {
     "languageId": "r"
    }
   },
   "outputs": [
    {
     "name": "stdout",
     "output_type": "stream",
     "text": [
      "     sex height\n",
      "1   Male     75\n",
      "2   Male     70\n",
      "3   Male     68\n",
      "4   Male     74\n",
      "5   Male     61\n",
      "6 Female     65\n",
      "[1] \"Categórica\"\n"
     ]
    }
   ],
   "source": [
    "source(\"Scripts/1-1/Ejercicio2.R\", print.eval = TRUE)"
   ]
  },
  {
   "attachments": {},
   "cell_type": "markdown",
   "metadata": {},
   "source": [
    "### Ejercicio 3. Valores numéricos\n",
    "Tenga en cuenta que los datos numéricos discretos pueden considerarse ordinales. Aunque esto es técnicamente cierto, generalmente reservamos el término datos ordinales para variables que pertenecen a un pequeño número de grupos diferentes, con cada grupo con muchos miembros.\n",
    "\n",
    "La variable altura podría ser ordinal si, por ejemplo, informamos un pequeño número de valores como corto, medio y alto. Exploremos cuántos valores únicos utiliza la variable alturas. Para ello podemos utilizar la función `unique`:"
   ]
  },
  {
   "attachments": {},
   "cell_type": "markdown",
   "metadata": {},
   "source": [
    "Instrucciones:\n",
    "\n",
    "Utilice las funciones `unique` y `length` para determinar cuántas alturas únicas se han notificado."
   ]
  },
  {
   "cell_type": "code",
   "execution_count": 4,
   "metadata": {
    "vscode": {
     "languageId": "r"
    }
   },
   "outputs": [
    {
     "name": "stdout",
     "output_type": "stream",
     "text": [
      "[1] 139\n"
     ]
    }
   ],
   "source": [
    "source(\"Scripts/1-1/Ejercicio3.R\", print.eval = TRUE)"
   ]
  },
  {
   "attachments": {},
   "cell_type": "markdown",
   "metadata": {},
   "source": [
    "### Ejercicio 4: Tablas\n",
    "\n",
    "Uno de los resultados útiles de la visualización de datos es que podemos aprender sobre la distribución de variables. Para datos categóricos podemos construir esta distribución simplemente calculando la frecuencia de cada valor único. Esto se puede hacer con la función `table`"
   ]
  },
  {
   "attachments": {},
   "cell_type": "markdown",
   "metadata": {},
   "source": [
    "Instrucciones:\n",
    "\n",
    "Utilice la función `table` para calcular las frecuencias de cada valor de altura único. Debido a que estaremos usando la tabla de frecuencia resultante en un ejercicio posterior, queremos que guarde los resultados en un objeto y lo llame `tab`."
   ]
  },
  {
   "cell_type": "code",
   "execution_count": 5,
   "metadata": {
    "vscode": {
     "languageId": "r"
    }
   },
   "outputs": [
    {
     "name": "stdout",
     "output_type": "stream",
     "text": [
      "x\n",
      "   50    51    52    53 53.77    54 \n",
      "    2     1     2     1     1     1 \n"
     ]
    }
   ],
   "source": [
    "source(\"Scripts/1-1/Ejercicio4.R\", print.eval = TRUE)"
   ]
  },
  {
   "attachments": {},
   "cell_type": "markdown",
   "metadata": {},
   "source": [
    "### Ejercicio 5: Variables indicadoras\n",
    "\n",
    "Para ver por qué tratar las alturas reportadas como un valor ordinal no es útil en la práctica, notamos cuántos valores se informan solo una vez."
   ]
  },
  {
   "attachments": {},
   "cell_type": "markdown",
   "metadata": {},
   "source": [
    "Instrucciones:\n",
    "\n",
    "En el ejercicio anterior calculamos la variable `tab` que informa el número de veces que aparece cada valor único. Para los valores informados sólo una vez la pestaña será 1. Use lógicas y la función `sum` para contar el número de veces que esto sucede."
   ]
  },
  {
   "cell_type": "code",
   "execution_count": 6,
   "metadata": {
    "vscode": {
     "languageId": "r"
    }
   },
   "outputs": [
    {
     "name": "stdout",
     "output_type": "stream",
     "text": [
      "[1] 63\n"
     ]
    }
   ],
   "source": [
    "source(\"Scripts/1-1/Ejercicio5.R\", print.eval = TRUE)"
   ]
  },
  {
   "attachments": {},
   "cell_type": "markdown",
   "metadata": {},
   "source": [
    "## 1.2 Introducción a las distribuciones"
   ]
  },
  {
   "attachments": {},
   "cell_type": "markdown",
   "metadata": {},
   "source": [
    "### Estudio de caso: describiendo alturas de estudiantes"
   ]
  },
  {
   "attachments": {},
   "cell_type": "markdown",
   "metadata": {},
   "source": [
    "Imaginen que tenemos que describir las alturas de nuestros compañeros de clase a ET, un extraterrestre que nunca ha visto humanos. Como primer paso, necesitamos recopilar datos.\n",
    "Para hacer esto, les pedimos a los estudiantes que indiquen sus alturas en pulgadas. Les pedimos que nos provean información sobre su sexo biológico porque sabemos que hay dos\n",
    "distribuciones diferentes por sexo. Recopilamos los datos y los guardamos en el set de datos `heights`:"
   ]
  },
  {
   "cell_type": "code",
   "execution_count": 7,
   "metadata": {
    "vscode": {
     "languageId": "r"
    }
   },
   "outputs": [
    {
     "data": {
      "text/html": [
       "<table class=\"dataframe\">\n",
       "<caption>A data.frame: 6 × 2</caption>\n",
       "<thead>\n",
       "\t<tr><th></th><th scope=col>sex</th><th scope=col>height</th></tr>\n",
       "\t<tr><th></th><th scope=col>&lt;fct&gt;</th><th scope=col>&lt;dbl&gt;</th></tr>\n",
       "</thead>\n",
       "<tbody>\n",
       "\t<tr><th scope=row>1</th><td>Male  </td><td>75</td></tr>\n",
       "\t<tr><th scope=row>2</th><td>Male  </td><td>70</td></tr>\n",
       "\t<tr><th scope=row>3</th><td>Male  </td><td>68</td></tr>\n",
       "\t<tr><th scope=row>4</th><td>Male  </td><td>74</td></tr>\n",
       "\t<tr><th scope=row>5</th><td>Male  </td><td>61</td></tr>\n",
       "\t<tr><th scope=row>6</th><td>Female</td><td>65</td></tr>\n",
       "</tbody>\n",
       "</table>\n"
      ],
      "text/latex": [
       "A data.frame: 6 × 2\n",
       "\\begin{tabular}{r|ll}\n",
       "  & sex & height\\\\\n",
       "  & <fct> & <dbl>\\\\\n",
       "\\hline\n",
       "\t1 & Male   & 75\\\\\n",
       "\t2 & Male   & 70\\\\\n",
       "\t3 & Male   & 68\\\\\n",
       "\t4 & Male   & 74\\\\\n",
       "\t5 & Male   & 61\\\\\n",
       "\t6 & Female & 65\\\\\n",
       "\\end{tabular}\n"
      ],
      "text/markdown": [
       "\n",
       "A data.frame: 6 × 2\n",
       "\n",
       "| <!--/--> | sex &lt;fct&gt; | height &lt;dbl&gt; |\n",
       "|---|---|---|\n",
       "| 1 | Male   | 75 |\n",
       "| 2 | Male   | 70 |\n",
       "| 3 | Male   | 68 |\n",
       "| 4 | Male   | 74 |\n",
       "| 5 | Male   | 61 |\n",
       "| 6 | Female | 65 |\n",
       "\n"
      ],
      "text/plain": [
       "  sex    height\n",
       "1 Male   75    \n",
       "2 Male   70    \n",
       "3 Male   68    \n",
       "4 Male   74    \n",
       "5 Male   61    \n",
       "6 Female 65    "
      ]
     },
     "metadata": {},
     "output_type": "display_data"
    }
   ],
   "source": [
    "# Cargamos el dataset\n",
    "library(dslabs)\n",
    "data(heights)\n",
    "# Mostramos las primeras entradas\n",
    "head(heights)"
   ]
  },
  {
   "attachments": {},
   "cell_type": "markdown",
   "metadata": {},
   "source": [
    "El resumen estadístico más básico de una lista de objetos o números es su distribución. La forma más sencilla de pensar en una distribución es como una descripción compacta de una lista con muchas entradas."
   ]
  },
  {
   "attachments": {},
   "cell_type": "markdown",
   "metadata": {},
   "source": [
    "El sexo representado en el set de datos de alturas es:"
   ]
  },
  {
   "cell_type": "code",
   "execution_count": 8,
   "metadata": {
    "vscode": {
     "languageId": "r"
    }
   },
   "outputs": [
    {
     "data": {
      "text/plain": [
       "\n",
       "   Female      Male \n",
       "0.2266667 0.7733333 "
      ]
     },
     "metadata": {},
     "output_type": "display_data"
    }
   ],
   "source": [
    "# creamos una tabla con las proporciones por categoría\n",
    "prop.table(table(heights$sex))"
   ]
  },
  {
   "attachments": {},
   "cell_type": "markdown",
   "metadata": {},
   "source": [
    "- Una distribución es una función o descripción que muestra los posibles valores de una variable y con qué frecuencia ocurren esos valores.\n",
    "- Para las variables categóricas, la distribución describe las proporciones de cada categoría.\n",
    "- Una tabla de frecuencias es la forma más sencilla de mostrar una distribución categórica. \n",
    "- Use `prop.table()` para convertir una tabla de conteos en una tabla de frecuencia. Los diagramas de barras muestran la distribución de variables categóricas y son una forma de visualizar la información en tablas de frecuencia."
   ]
  },
  {
   "attachments": {},
   "cell_type": "markdown",
   "metadata": {},
   "source": [
    "Los datos numéricos que no son categóricos también tienen distribuciones. En general, cuando los datos no son categóricos, indicar la frecuencia de cada entrada no es un resumen efectivo, ya que la mayoría de las entradas son únicas.\n",
    "\n",
    "La forma más útil de definir una distribución de datos numéricos es definir una función que indique la proporción de los datos a continuación 𝑎 para todos los valores posibles de 𝑎. Esta función se llama la función de distribución acumulada (cumulative distribution function o CDF por sus siglas en inglés).\n",
    "\n",
    "Usando la siguiente notación:\n",
    "\n",
    "$$ F(a) = P(x \\leq a) $$"
   ]
  },
  {
   "cell_type": "code",
   "execution_count": 9,
   "metadata": {
    "vscode": {
     "languageId": "r"
    }
   },
   "outputs": [
    {
     "data": {
      "image/png": "[encoded data removed]",
      "text/plain": [
       "plot without title"
      ]
     },
     "metadata": {
      "image/png": {
       "height": 420,
       "width": 420
      }
     },
     "output_type": "display_data"
    }
   ],
   "source": [
    "# Cargar las librerías ggplot2 y dslabs\n",
    "library(ggplot2)\n",
    "library(dslabs)\n",
    "\n",
    "# Filtrar los datos para incluir solo el sexo masculino\n",
    "heights_male <- subset(heights, sex == \"Male\")\n",
    "\n",
    "# Asegurarse de que la columna de altura es de tipo numeric\n",
    "heights_male$height <- as.numeric(heights_male$height)\n",
    "\n",
    "# Calcular la FDA para los datos del sexo masculino\n",
    "fda <- ecdf(heights_male$height)\n",
    "\n",
    "# Crear un data frame con dos columnas: altura y FDA\n",
    "df <- data.frame(height=heights_male$height, fda=fda(heights_male$height))\n",
    "\n",
    "# Crear el gráfico de la FDA\n",
    "ggplot(df, aes(x=height, y=fda)) +\n",
    "  geom_line(color=\"blue\") +\n",
    "  labs(title=\"Función de Distribución Acumulada (sexo masculino)\", x=\"Altura (pulgadas)\", y=\"FDA\")\n",
    "\n"
   ]
  },
  {
   "attachments": {},
   "cell_type": "markdown",
   "metadata": {},
   "source": [
    "Similar a lo que hace la tabla de frecuencias para datos categóricos, la CDF define la distribución de datos numéricos. En el gráfico, podemos ver que 16% de los valores son menos\n",
    "de 65, ya que 𝐹(66) = 0.164. De hecho, podemos informar la proporción de valores entre dos alturas, digamos 𝑎 y 𝑏, al calcular $$𝐹(𝑏) − 𝐹(𝑎)$$."
   ]
  },
  {
   "attachments": {},
   "cell_type": "markdown",
   "metadata": {},
   "source": [
    "> Debido a que las CDF pueden definirse matemáticamente, la palabra empírica se añade para distinguir cuando se usan los datos.\n",
    "> Por lo tanto, utilizamos el término eCDF por sus siglas en inglés"
   ]
  },
  {
   "attachments": {},
   "cell_type": "markdown",
   "metadata": {},
   "source": [
    "Los histogramas sacrifican solo un poco de información para producir gráficos que son mucho más fáciles de interpretar.\n",
    "La forma más sencilla de hacer un histograma es dividir el span de nuestros datos en compartimientos (bins en inglés) no superpuestos del mismo tamaño. Entonces para cada compartimiento, contamos el número de valores que se encuentran en ese intervalo. El histograma gráfica estos conteos como barras con la base de la barra definida por los intervalos. A continuación tenemos el histograma para los datos de altura que dividen el rango de valores en intervalos de una pulgada:"
   ]
  },
  {
   "cell_type": "code",
   "execution_count": 10,
   "metadata": {
    "vscode": {
     "languageId": "r"
    }
   },
   "outputs": [
    {
     "name": "stderr",
     "output_type": "stream",
     "text": [
      "\u001b[1m\u001b[22m`stat_bin()` using `bins = 30`. Pick better value with `binwidth`.\n"
     ]
    },
    {
     "data": {
      "image/png": "[encoded data removed]",
      "text/plain": [
       "plot without title"
      ]
     },
     "metadata": {
      "image/png": {
       "height": 420,
       "width": 420
      }
     },
     "output_type": "display_data"
    }
   ],
   "source": [
    "# Filtrar los datos para incluir solo el sexo masculino\n",
    "heights_male <- subset(heights, sex == \"Male\")\n",
    "\n",
    "# Asegurarse de que la columna de altura es de tipo numeric\n",
    "heights_male$height <- as.numeric(heights_male$height)\n",
    "\n",
    "# Crear el histograma de alturas del sexo masculino\n",
    "ggplot(heights_male, aes(x=height)) +\n",
    "  geom_histogram(color=\"blue\") +\n",
    "  labs(title=\"Histograma de alturas (sexo masculino)\", x=\"Altura (pulgadas)\", y=\"Frecuencia\")\n"
   ]
  },
  {
   "attachments": {},
   "cell_type": "markdown",
   "metadata": {},
   "source": [
    "###  Densidad suave\n",
    "\n"
   ]
  },
  {
   "attachments": {},
   "cell_type": "markdown",
   "metadata": {},
   "source": [
    "Para entender las densidades suaves, tenemos que entender *estimadores*, El nuevo concepto principal que deben entender es que suponemos que nuestra lista de valores observados es un subconjunto de una lista mucho más grande de valores no observados. En el caso de las alturas, pueden imaginar que nuestra lista de 812 estudiantes varones proviene de una lista hipotética que contiene todas las alturas de todos los estudiantes varones en todo el mundo, medidos todos con mucha precision. Esta lista de valores tiene una distribución, como cualquier lista de valores, y esta distribución considerable es realmente lo que queremos transmitir.\n",
    "\n",
    "La suposición es que si mostramos esto, la altura de los compartimientos consecutivos será similar. Esto es lo que queremos decir con suave: no tenemos grandes saltos en las alturas de los compartimientos consecutivos.\n",
    "\n",
    "Entre más pequeños hacemos los compartimientos, más suave se vuelve el histograma. La densidad suave es básicamente la curva que atraviesa la parte superior de las barras del histograma cuando los compartimientos son muy, muy pequeños. Para que la curva no dependa del tamaño hipotético de la lista hipotética, calculamos la curva usando frecuencias en lugar de conteos.\n",
    "\n",
    "De hecho, podemos controlar la suavidad de la curva cambiando el número de puntos en los compartimientos. Esta opción se conoce como bandwidth, span, window size o, en español, ventana de suavizado o parámetro de suavizado, y se puede ajustar en la función que calcula la curva de densidad suave.\n",
    "\n",
    "Si bien el histograma es un resumen sin suposiciones, el gráfico de densidad suave está formado por suposiciones y elecciones que realiza como analista de datos."
   ]
  },
  {
   "attachments": {},
   "cell_type": "markdown",
   "metadata": {},
   "source": [
    "Tengan en cuenta que interpretar el eje-y de un gráfico de densidad suave no es obvio. Se escala para que el área bajo la curva de densidad se sume a 1. Si imaginan que formamos\n",
    "un compartimiento con una base de 1 unidad de longitud, el valor del eje-y nos indica la proporción de valores en ese compartimiento. Sin embargo, esto solo es cierto para compartimientos de tamaño 1. Para intervalos de otro tamaño, la mejor manera de determinar la proporción de datos en ese intervalo es calculando la proporción del área total contenida en ese intervalo.\n",
    "\n",
    "> una ventaja de las densidades suaves sobre los histogramas para fines de visualización es que las densidades facilitan la comparación de dos distribuciones. Esto se debe en gran parte a que los bordes irregulares del histograma añaden desorden."
   ]
  },
  {
   "attachments": {},
   "cell_type": "markdown",
   "metadata": {},
   "source": [
    "### Distribución normal"
   ]
  },
  {
   "attachments": {},
   "cell_type": "markdown",
   "metadata": {},
   "source": [
    "La distribución normal, también conocida como curva de campana y distribución Gaussiana, es uno de los conceptos matemáticos más famosos de la historia. Una razón para esto es que se producen distribuciones aproximadamente normales en muchas situaciones, incluyendo las ganancias de juego, las alturas, los pesos, la presión arterial, las puntuaciones en las pruebas estandarizadas y los errores de medición experimentales.\n",
    "\n",
    "En vez de usar datos, la distribución normal se define con una fórmula matemática. Para cualquier intervalo (𝑎, 𝑏), la proporción de valores en ese intervalo se puede calcular utilizando esta fórmula:\n",
    "$$P(a < x < b) = \\int_a^b \\frac{1}{\\sqrt{2\\pi}s}e^{-\\frac{1}{2} (\\frac{x-m}{s})^2} dx$$\n",
    "\n",
    "𝑚 y 𝑠, se conocen respectivamente como el *promedio* (o la media) y la *desviación estándar* (SD por sus siglas en inglés) de la distribución.\n",
    "\n",
    "La distribución es simétrica, centrada en el promedio, y la mayoría de los valores (alrededor del 95%) están dentro de 2 SD del promedio. \n",
    "\n"
   ]
  },
  {
   "attachments": {},
   "cell_type": "markdown",
   "metadata": {},
   "source": [
    "> Si la distribución de un set de datos se puede aproximar con una distribución normal, toda la información necesaria para describir la distribución se puede codificar con el promedio y la desviación estándar."
   ]
  },
  {
   "attachments": {},
   "cell_type": "markdown",
   "metadata": {},
   "source": [
    "### Unidades estándar"
   ]
  },
  {
   "attachments": {},
   "cell_type": "markdown",
   "metadata": {},
   "source": [
    "La unidad estándar de un valor nos dice cuántas desviaciones estándar se alejan del promedio. Específicamente, para un valor $x$ de un vector $X$, definimos el valor de $x$ en unidades estándar como $z = \\frac{(x - m)}{s}$ con $m$ y $s$ el promedio y la desviación estándar de $X$, respectivamente."
   ]
  },
  {
   "attachments": {},
   "cell_type": "markdown",
   "metadata": {},
   "source": [
    "#### ¿Por qué es conveniente trabajar con unidades estándar?\n",
    "\n",
    "En nuestra formula podemos rápidamente notar que podemos escribir la exponencial en términos de z de la siguiente forma:\n",
    "\n",
    "$$\n",
    "e^{-\\frac{z^2}{2}}\n",
    "$$\n",
    "\n",
    "- $e^{-\\frac{z^2}{2}}$ obtiene su máximo para $z = 0$, esto muestra porque la distribución ocurre en el promedio.\n",
    "- $-\\frac{z^2}{2}$ es simétrico alrededor de $z = 0$, lo que explica la simetría de la distribución.\n",
    "- Si convertimos nuestros datos distribuidos normalmente en unidades estándar, podremos saber si una persona es aproximadamente promedio $(z = 0)$, esta ente los mas altos $(z \\approx 2)$, entre los mas bajos $(z \\approx -2)$\n",
    "\n",
    "> Estas reglas se aplican a cualquier dato que es aproximadamente normal, sin importar las unidades."
   ]
  },
  {
   "cell_type": "code",
   "execution_count": 11,
   "metadata": {
    "vscode": {
     "languageId": "r"
    }
   },
   "outputs": [
    {
     "data": {
      "text/html": [
       "<table class=\"dataframe\">\n",
       "<caption>A matrix: 2 × 2 of type dbl</caption>\n",
       "<thead>\n",
       "\t<tr><th></th><th scope=col>manual</th><th scope=col>funciones</th></tr>\n",
       "</thead>\n",
       "<tbody>\n",
       "\t<tr><th scope=row>media</th><td>69.314755</td><td>69.314755</td></tr>\n",
       "\t<tr><th scope=row>SD</th><td> 3.608799</td><td> 3.611024</td></tr>\n",
       "</tbody>\n",
       "</table>\n"
      ],
      "text/latex": [
       "A matrix: 2 × 2 of type dbl\n",
       "\\begin{tabular}{r|ll}\n",
       "  & manual & funciones\\\\\n",
       "\\hline\n",
       "\tmedia & 69.314755 & 69.314755\\\\\n",
       "\tSD &  3.608799 &  3.611024\\\\\n",
       "\\end{tabular}\n"
      ],
      "text/markdown": [
       "\n",
       "A matrix: 2 × 2 of type dbl\n",
       "\n",
       "| <!--/--> | manual | funciones |\n",
       "|---|---|---|\n",
       "| media | 69.314755 | 69.314755 |\n",
       "| SD |  3.608799 |  3.611024 |\n",
       "\n"
      ],
      "text/plain": [
       "      manual    funciones\n",
       "media 69.314755 69.314755\n",
       "SD     3.608799  3.611024"
      ]
     },
     "metadata": {},
     "output_type": "display_data"
    }
   ],
   "source": [
    "# Definamos x como un vector con las alturas de los hombres\n",
    "index = heights$sex==\"Male\"\n",
    "x = heights$height[index]\n",
    "# Calculamos la media y la desviación estándar de manera manual\n",
    "media_manual = sum(x)/length(x)\n",
    "sd_manual = sqrt(sum((x-media_manual)^2)/length(x))\n",
    "manual = c(media = media_manual, SD = sd_manual)\n",
    "# Calculamos la media y la desviación estándar con las funciones mean() y sd()\n",
    "media_funciones = mean(x)\n",
    "sd_funciones = sd(x)\n",
    "funciones = c(media = media_funciones, SD = sd_funciones)\n",
    "# Mostramos los resultados\n",
    "cbind(manual, funciones)"
   ]
  },
  {
   "cell_type": "code",
   "execution_count": 12,
   "metadata": {
    "vscode": {
     "languageId": "r"
    }
   },
   "outputs": [
    {
     "data": {
      "text/html": [
       "0.949507389162562"
      ],
      "text/latex": [
       "0.949507389162562"
      ],
      "text/markdown": [
       "0.949507389162562"
      ],
      "text/plain": [
       "[1] 0.9495074"
      ]
     },
     "metadata": {},
     "output_type": "display_data"
    }
   ],
   "source": [
    "# Calculamos las unidades estándar\n",
    "z = scale(x)\n",
    "# ver la proporción de hombres que hay dentro de 2 SD del promedio\n",
    "mean(abs(z) < 2)"
   ]
  },
  {
   "attachments": {},
   "cell_type": "markdown",
   "metadata": {},
   "source": [
    "¡La proporción es aproximadamente 95%, que es lo que predice la distribución normal!"
   ]
  },
  {
   "attachments": {},
   "cell_type": "markdown",
   "metadata": {},
   "source": [
    "### Distribuciones teóricas continuas"
   ]
  },
  {
   "attachments": {},
   "cell_type": "markdown",
   "metadata": {},
   "source": [
    "La distribución normal se presenta como una aproximación útil a muchas distribuciones naturales, incluyendo la altura. La distribución acumulada para la distribución normal se define mediante una fórmula matemática que en R se puede obtener con la función `pnorm`. \n",
    "\n",
    "Decimos que una cantidad aleatoria se distribuye normalmente con promedio $m$ y desviación estándar $s$ si su distribución de probabilidad se define por:\n",
    "\n",
    "$F(a) = \\text{pnorm}(a, m,s)$ \n",
    "\n",
    "Esto es útil porque si estamos dispuestos a usar la aproximación normal para, por ejemplo, la altura, para responder a preguntas como: ¿Cuál es la probabilidad de que un estudiante seleccionado al azar sea más alto que 70 pulgadas? Solo necesitamos la altura promedio y la desviación estándar:"
   ]
  },
  {
   "cell_type": "code",
   "execution_count": 13,
   "metadata": {
    "vscode": {
     "languageId": "r"
    }
   },
   "outputs": [
    {
     "data": {
      "image/png": "[encoded data removed]",
      "text/plain": [
       "plot without title"
      ]
     },
     "metadata": {
      "image/png": {
       "height": 420,
       "width": 420
      }
     },
     "output_type": "display_data"
    }
   ],
   "source": [
    "# Graficamos la distribución de las alturas\n",
    "plot(prop.table(table(x)), xlab = \"a = Height in inches\", ylab = \"Pr(x = a)\")"
   ]
  },
  {
   "cell_type": "code",
   "execution_count": 14,
   "metadata": {
    "vscode": {
     "languageId": "r"
    }
   },
   "outputs": [
    {
     "data": {
      "text/html": [
       "0.371369013278474"
      ],
      "text/latex": [
       "0.371369013278474"
      ],
      "text/markdown": [
       "0.371369013278474"
      ],
      "text/plain": [
       "[1] 0.371369"
      ]
     },
     "metadata": {},
     "output_type": "display_data"
    }
   ],
   "source": [
    "# calculamos la probabilidad de que un hombre tenga una altura mayor a 70 pulgadas\n",
    "1 - pnorm(70.5, mean(heights_male$height), sd(heights_male$height))"
   ]
  },
  {
   "attachments": {},
   "cell_type": "markdown",
   "metadata": {},
   "source": [
    "Con distribuciones continuas, la probabilidad de un valor singular no se define. \n",
    "\n",
    "En cambio, definimos probabilidades para intervalos. Por lo tanto, podríamos preguntar cuál es la probabilidad de que alguien mida entre 69.5 y 70.5.\n",
    "\n",
    "En casos como la altura, en los que los datos se redondean, la aproximación normal es particularmente útil si estamos trabajando con intervalos que incluyen exactamente un número redondo. Por ejemplo, la distribución normal es útil para aproximar la proporción de estudiantes que indican valores en intervalos como los tres siguientes:"
   ]
  },
  {
   "cell_type": "code",
   "execution_count": 15,
   "metadata": {
    "vscode": {
     "languageId": "r"
    }
   },
   "outputs": [
    {
     "data": {
      "text/html": [
       "0.114532019704433"
      ],
      "text/latex": [
       "0.114532019704433"
      ],
      "text/markdown": [
       "0.114532019704433"
      ],
      "text/plain": [
       "[1] 0.114532"
      ]
     },
     "metadata": {},
     "output_type": "display_data"
    },
    {
     "data": {
      "text/html": [
       "0.119458128078818"
      ],
      "text/latex": [
       "0.119458128078818"
      ],
      "text/markdown": [
       "0.119458128078818"
      ],
      "text/plain": [
       "[1] 0.1194581"
      ]
     },
     "metadata": {},
     "output_type": "display_data"
    },
    {
     "data": {
      "text/html": [
       "0.12192118226601"
      ],
      "text/latex": [
       "0.12192118226601"
      ],
      "text/markdown": [
       "0.12192118226601"
      ],
      "text/plain": [
       "[1] 0.1219212"
      ]
     },
     "metadata": {},
     "output_type": "display_data"
    }
   ],
   "source": [
    "mean(x <= 68.5) - mean(x <= 67.5)\n",
    "mean(x <= 69.5) - mean(x <= 68.5)\n",
    "mean(x <= 70.5) - mean(x <= 69.5)"
   ]
  },
  {
   "attachments": {},
   "cell_type": "markdown",
   "metadata": {},
   "source": [
    "Nos acercamos mucho con la aproximación normal"
   ]
  },
  {
   "cell_type": "code",
   "execution_count": 16,
   "metadata": {
    "vscode": {
     "languageId": "r"
    }
   },
   "outputs": [
    {
     "data": {
      "text/html": [
       "0.103107700722601"
      ],
      "text/latex": [
       "0.103107700722601"
      ],
      "text/markdown": [
       "0.103107700722601"
      ],
      "text/plain": [
       "[1] 0.1031077"
      ]
     },
     "metadata": {},
     "output_type": "display_data"
    },
    {
     "data": {
      "text/html": [
       "0.109712077150593"
      ],
      "text/latex": [
       "0.109712077150593"
      ],
      "text/markdown": [
       "0.109712077150593"
      ],
      "text/plain": [
       "[1] 0.1097121"
      ]
     },
     "metadata": {},
     "output_type": "display_data"
    },
    {
     "data": {
      "text/html": [
       "0.108174271080828"
      ],
      "text/latex": [
       "0.108174271080828"
      ],
      "text/markdown": [
       "0.108174271080828"
      ],
      "text/plain": [
       "[1] 0.1081743"
      ]
     },
     "metadata": {},
     "output_type": "display_data"
    }
   ],
   "source": [
    "m <- mean(x)\n",
    "s <- sd(x)\n",
    "pnorm(68.5, m, s) - pnorm(67.5, m, s)\n",
    "pnorm(69.5, m, s) - pnorm(68.5, m, s)\n",
    "pnorm(70.5, m, s) - pnorm(69.5, m, s)"
   ]
  },
  {
   "attachments": {},
   "cell_type": "markdown",
   "metadata": {},
   "source": [
    "Sin embargo, la aproximación no es tan útil para otros intervalos. Por ejemplo, observen cómo se descompone la aproximación cuando intentamos estimar:"
   ]
  },
  {
   "cell_type": "code",
   "execution_count": 17,
   "metadata": {
    "vscode": {
     "languageId": "r"
    }
   },
   "outputs": [
    {
     "data": {
      "text/html": [
       "0.0221674876847291"
      ],
      "text/latex": [
       "0.0221674876847291"
      ],
      "text/markdown": [
       "0.0221674876847291"
      ],
      "text/plain": [
       "[1] 0.02216749"
      ]
     },
     "metadata": {},
     "output_type": "display_data"
    },
    {
     "data": {
      "text/html": [
       "0.0835956178162536"
      ],
      "text/latex": [
       "0.0835956178162536"
      ],
      "text/markdown": [
       "0.0835956178162536"
      ],
      "text/plain": [
       "[1] 0.08359562"
      ]
     },
     "metadata": {},
     "output_type": "display_data"
    }
   ],
   "source": [
    "mean(x <= 70.9) - mean(x<=70.1)\n",
    "pnorm(70.9, m, s) - pnorm(70.1, m, s)"
   ]
  },
  {
   "attachments": {},
   "cell_type": "markdown",
   "metadata": {},
   "source": [
    "En general, llamamos a esta situación *discretización*. Aunque la distribución de altura real es continua, las alturas reportadas tienden a ser más comunes en valores discretos, en este caso, debido al redondeo. Con tal que sepamos cómo lidiar con esta realidad, la aproximación normal puede ser una herramienta muy útil."
   ]
  },
  {
   "attachments": {},
   "cell_type": "markdown",
   "metadata": {},
   "source": [
    "## Evaluación 1.2: Distribución normal"
   ]
  },
  {
   "attachments": {},
   "cell_type": "markdown",
   "metadata": {},
   "source": [
    "### Ejercicio 1: Proporciones\n",
    "\n",
    "Cargue el set de datos de altura y cree un vector x con solo las alturas masculinas:\n",
    "```\n",
    "library(dslabs)\n",
    "data(heights)\n",
    "x <- heights$height[heights$sex==\"Male\"\n",
    "```\n",
    "¿Qué proporción de los datos está entre 69 y 72 pulgadas (más alto que 69, pero más bajo o igual a 72)? Sugerencia: use un operador lógico y `mean`"
   ]
  },
  {
   "cell_type": "code",
   "execution_count": 18,
   "metadata": {
    "vscode": {
     "languageId": "r"
    }
   },
   "outputs": [
    {
     "name": "stdout",
     "output_type": "stream",
     "text": [
      "[1] 0.3337438\n"
     ]
    }
   ],
   "source": [
    "source(\"Scripts/1-2/Ejercicio1.R\", print.eval = TRUE)"
   ]
  },
  {
   "attachments": {},
   "cell_type": "markdown",
   "metadata": {},
   "source": [
    "### Ejercicio 2: Promedios y desviaciones estándar\n",
    "\n",
    "Supongan que lo único que sabe sobre los datos es el promedio y la desviación estándar. Use la aproximación normal para estimar la proporción que acaba de calcular. Sugerencia:\n",
    "comience calculando el promedio y la desviación estándar. Luego use la función `pnorm` para predecir las proporciones."
   ]
  },
  {
   "cell_type": "code",
   "execution_count": 19,
   "metadata": {
    "vscode": {
     "languageId": "r"
    }
   },
   "outputs": [
    {
     "name": "stdout",
     "output_type": "stream",
     "text": [
      "[1] 0.3061779\n"
     ]
    }
   ],
   "source": [
    "source(\"Scripts/1-2/Ejercicio2.R\", print.eval = TRUE)"
   ]
  },
  {
   "attachments": {},
   "cell_type": "markdown",
   "metadata": {},
   "source": [
    "### Ejercicio 3: Aproximaciones\n",
    "\n",
    "Note que la aproximación calculada en la pregunta nueve está muy cerca del cálculo exacto en la primera pregunta. Ahora realice la misma tarea para valores más atípicos.\n",
    "Compare el cálculo exacto y la aproximación normal para el intervalo (79,81]. ¿Cuántas veces mayor es la proporción real que la aproximación?"
   ]
  },
  {
   "cell_type": "code",
   "execution_count": 20,
   "metadata": {
    "vscode": {
     "languageId": "r"
    }
   },
   "outputs": [
    {
     "name": "stdout",
     "output_type": "stream",
     "text": [
      "[1] 1.614261\n"
     ]
    }
   ],
   "source": [
    "source(\"Scripts/1-2/Ejercicio3.R\", print.eval = TRUE)"
   ]
  },
  {
   "attachments": {},
   "cell_type": "markdown",
   "metadata": {},
   "source": [
    "### Ejercicio 4: Seven footers y la NBA\n",
    "Alguien te pregunta qué porcentaje de jugadores de siete pies hay en la Asociación Nacional de Baloncesto (NBA). ¿Puede proporcionar una estimación? Intentemos usar la aproximación normal para responder esta pregunta.\n",
    "\n",
    "Dada una distribución normal con media `mu` y desviación estándar `sigma`, puede calcular la proporción de observaciones menores o iguales a cierto valor con `pnorm(valor, mu, sigma)`. Observe que este es el CDF para la distribución normal.\n",
    "\n",
    "Primero, estimaremos la proporción de hombres adultos que miden más de 7 pies.\n",
    "\n",
    "Suponga que la distribución de hombres adultos en el mundo se distribuye normalmente con un promedio de 69 pulgadas y una desviación estándar de 3 pulgadas."
   ]
  },
  {
   "cell_type": "code",
   "execution_count": 21,
   "metadata": {
    "vscode": {
     "languageId": "r"
    }
   },
   "outputs": [
    {
     "name": "stdout",
     "output_type": "stream",
     "text": [
      "[1] 1.279865e-12\n"
     ]
    }
   ],
   "source": [
    "source(\"Scripts/1-2/Ejercicio4.R\", print.eval = TRUE)"
   ]
  },
  {
   "attachments": {},
   "cell_type": "markdown",
   "metadata": {},
   "source": [
    "### Ejercicio 5: Estimación del número de seven footers\n",
    "\n",
    "Ahora tenemos una aproximación para la proporción, llámala `p`, de hombres que miden 7 pies o más.\n",
    "\n",
    "Sabemos que hay alrededor de mil millones de hombres entre 18 y 40 años en el mundo, el rango de edad de la NBA.\n",
    "\n",
    "¿Podemos usar la distribución normal para estimar cuántos de estos mil millones de hombres miden al menos siete pies de altura?"
   ]
  },
  {
   "cell_type": "code",
   "execution_count": 22,
   "metadata": {
    "vscode": {
     "languageId": "r"
    }
   },
   "outputs": [
    {
     "name": "stdout",
     "output_type": "stream",
     "text": [
      "[1] 287\n"
     ]
    }
   ],
   "source": [
    "source(\"Scripts/1-2/Ejercicio5.R\", print.eval = TRUE)"
   ]
  },
  {
   "attachments": {},
   "cell_type": "markdown",
   "metadata": {},
   "source": [
    "### Ejercicio 6: Cuantos seven footers hay en la NBA?\n",
    "\n",
    "Hay alrededor de 10 jugadores de la Asociación Nacional de Baloncesto (NBA) que miden 7 pies de altura o más. Usando la respuesta a las dos preguntas anteriores, ¿Qué proporción\n",
    "de los seven footers del mundo, entre 18 a 40 años, están en la NBA?"
   ]
  },
  {
   "cell_type": "code",
   "execution_count": 23,
   "metadata": {
    "vscode": {
     "languageId": "r"
    }
   },
   "outputs": [
    {
     "name": "stdout",
     "output_type": "stream",
     "text": [
      "[1] 0.03484321\n"
     ]
    }
   ],
   "source": [
    "source(\"Scripts/1-2/Ejercicio6.R\", print.eval = TRUE)"
   ]
  },
  {
   "attachments": {},
   "cell_type": "markdown",
   "metadata": {},
   "source": [
    "### Ejercicio 7: Altura de Lebron James\n",
    "\n",
    "Repita los cálculos realizados en la pregunta anterior para la altura del basquetbolista Lebron James: 6 pies y 8 pulgadas. Hay alrededor de 150 jugadores que son al menos tan\n",
    "altos."
   ]
  },
  {
   "cell_type": "code",
   "execution_count": 24,
   "metadata": {
    "vscode": {
     "languageId": "r"
    }
   },
   "outputs": [
    {
     "name": "stdout",
     "output_type": "stream",
     "text": [
      "[1] 0.001220842\n"
     ]
    }
   ],
   "source": [
    "source(\"Scripts/1-2/Ejercicio7.R\", print.eval = TRUE)"
   ]
  },
  {
   "attachments": {},
   "cell_type": "markdown",
   "metadata": {},
   "source": [
    "## 1.3 Quantiles, Percentiles, and Boxplots"
   ]
  },
  {
   "attachments": {},
   "cell_type": "markdown",
   "metadata": {},
   "source": [
    "### Definición de cuantiles"
   ]
  },
  {
   "attachments": {},
   "cell_type": "markdown",
   "metadata": {},
   "source": [
    "**Cuartiles**\n",
    "\n",
    "Los cuantiles son puntos de corte que dividen un conjunto de datos en intervalos con probabilidades establecidas. El *q-ésimo* cuantil es el valor en el que *q%* de las observaciones son iguales o menores que ese valor.\n",
    "\n",
    "En `R` si tenemos un dataset, podemos calcular el cuantil q utilizando:\n",
    "\n",
    "```r\n",
    "quantile(data, q)\n",
    "```\n",
    "\n",
    "**Percentiles**\n",
    "\n",
    "Los percentiles son los cuantiles que dividen el dataset en 100 intervalos, cada uno con el 1% de probabilidad.\n",
    "\n",
    "En `R` podemos calcular todos los percentiles de un conjunto de datos:\n",
    "\n",
    "```r\n",
    "p <- seq(0.01, 0.99, 0.01)\n",
    "\n",
    "quantile(data, p)\n",
    "```\n",
    "\n",
    "**Cuartiles**\n",
    "\n",
    "Los cuartiles dividen un dataset en 4 partes, cada una con el 25% de probabilidad. Son iguales al percentil 25, 50 y 75, conocidos como primer cuartil, mediana y tercer cuartil respectivamente\n",
    "\n",
    "La función `sumary()`, retorna el mínimo, los cuartiles y el máximo de un vector\n"
   ]
  },
  {
   "cell_type": "code",
   "execution_count": 1,
   "metadata": {
    "vscode": {
     "languageId": "r"
    }
   },
   "outputs": [
    {
     "data": {
      "text/plain": [
       "   Min. 1st Qu.  Median    Mean 3rd Qu.    Max. \n",
       "  50.00   66.00   68.50   68.32   71.00   82.68 "
      ]
     },
     "metadata": {},
     "output_type": "display_data"
    }
   ],
   "source": [
    "# ejemplo\n",
    "#Cargamos nuestro dataset de alturas\n",
    "\n",
    "library(dslabs)\n",
    "data(heights)\n",
    "#Utilizamos summary() para obtener la información de height\n",
    "\n",
    "summary(heights$height)"
   ]
  },
  {
   "cell_type": "code",
   "execution_count": 3,
   "metadata": {
    "vscode": {
     "languageId": "r"
    }
   },
   "outputs": [
    {
     "data": {
      "text/html": [
       "<strong>25%:</strong> 66"
      ],
      "text/latex": [
       "\\textbf{25\\textbackslash{}\\%:} 66"
      ],
      "text/markdown": [
       "**25%:** 66"
      ],
      "text/plain": [
       "25% \n",
       " 66 "
      ]
     },
     "metadata": {},
     "output_type": "display_data"
    },
    {
     "data": {
      "text/html": [
       "<strong>75%:</strong> 71"
      ],
      "text/latex": [
       "\\textbf{75\\textbackslash{}\\%:} 71"
      ],
      "text/markdown": [
       "**75%:** 71"
      ],
      "text/plain": [
       "75% \n",
       " 71 "
      ]
     },
     "metadata": {},
     "output_type": "display_data"
    }
   ],
   "source": [
    "# calculamos los percentiles\n",
    "p <- seq(0.01, 0.99, 0.01)\n",
    "percentiles <- quantile(heights$height, p)\n",
    "\n",
    "# Confirmamos que el percentil 25 y 75 coinciden con el primer y tercel cuartil\n",
    "percentiles[names(percentiles) == \"25%\"]\n",
    "percentiles[names(percentiles) == \"75%\"]"
   ]
  },
  {
   "attachments": {},
   "cell_type": "markdown",
   "metadata": {},
   "source": [
    "### Calculando cuantiles con `qnorm`"
   ]
  },
  {
   "attachments": {},
   "cell_type": "markdown",
   "metadata": {},
   "source": [
    "En los libros de estadísticas usamos el símbolo $\\phi(x)$ para definir la función que nos da la probabilidad de que una distribución normal estándar sea menos que 𝑥. Entonces, por ejemplo, $\\phi(−1.96) = 0.025 \\text{ y } \\phi(1.96) = 0.975.$ En `R`, podemos evaluar $\\phi$ utilizando la función `pnorm.`\n",
    "\n",
    "La función inversa $\\phi^{-1}(x)$ nos da los cuantiles teóricos para la distribución normal. Así, por ejemplo, $\\phi^{-1}(0.975) = 1.96.$ En R, podemos evaluar el inverso de $\\phi$ utilizando la función `qnorm`.\n",
    "\n",
    "Por defecto los cálculos se realizan para distribución normal estándar (media=0, std=1), pero también podemos definirlos dentro de la función.\n",
    "\n",
    "Podemos usar `qnorm()` para determinar los cuantiles teóricos de un conjunto de datos: es decir, el valor teórico de los cuantiles suponiendo que un conjunto de datos sigue una distribución normal."
   ]
  },
  {
   "cell_type": "code",
   "execution_count": 4,
   "metadata": {
    "vscode": {
     "languageId": "r"
    }
   },
   "outputs": [
    {
     "data": {
      "text/html": [
       "<style>\n",
       ".list-inline {list-style: none; margin:0; padding: 0}\n",
       ".list-inline>li {display: inline-block}\n",
       ".list-inline>li:not(:last-child)::after {content: \"\\00b7\"; padding: 0 .5ex}\n",
       "</style>\n",
       "<ol class=list-inline><li>62.0209563778775</li><li>62.8387532681045</li><li>63.3576191755462</li><li>63.7479417862435</li><li>64.0654391191456</li><li>64.3356792162094</li><li>64.5726269154625</li><li>64.7847853190711</li><li>64.9777348989294</li><li>65.1553453033662</li><li>65.3204156398902</li><li>65.4750396238017</li><li>65.6208266128836</li><li>65.7590419775551</li><li>65.8906998315186</li><li>66.0166263503707</li><li>66.1375042405614</li><li>66.2539047364716</li><li>66.3663111148463</li><li>66.4751362992813</li><li>66.5807362589453</li><li>66.6834203574339</li><li>66.7834594524444</li><li>66.8810923114797</li><li>66.9765307494118</li><li>67.0699637838213</li><li>67.1615610269501</li><li>67.2514754781864</li><li>67.339845841333</li><li>67.4267984618759</li><li>67.5124489579576</li><li>67.5969036026565</li><li>67.6802605029803</li><li>67.7626106116758</li><li>67.8440386007773</li><li>67.9246236202464</li><li>68.0044399606896</li><li>68.0835576357018</li><li>68.1620428966576</li><li>68.2399586905926</li><li>68.3173650700765</li><li>68.3943195625745</li><li>68.4708775056574</li><li>68.5470923535097</li><li>68.6230159594348</li><li>68.6986988384656</li><li>68.7741904137005</li><li>68.8495392496058</li><li>68.9247932752239</li><li>69</li><li>69.0752067247761</li><li>69.1504607503942</li><li>69.2258095862995</li><li>69.3013011615344</li><li>69.3769840405652</li><li>69.4529076464903</li><li>69.5291224943426</li><li>69.6056804374255</li><li>69.6826349299235</li><li>69.7600413094074</li><li>69.8379571033424</li><li>69.9164423642982</li><li>69.9955600393104</li><li>70.0753763797536</li><li>70.1559613992227</li><li>70.2373893883242</li><li>70.3197394970197</li><li>70.4030963973435</li><li>70.4875510420424</li><li>70.5732015381241</li><li>70.660154158667</li><li>70.7485245218136</li><li>70.8384389730499</li><li>70.9300362161787</li><li>71.0234692505882</li><li>71.1189076885203</li><li>71.2165405475556</li><li>71.3165796425661</li><li>71.4192637410547</li><li>71.5248637007187</li><li>71.6336888851537</li><li>71.7460952635284</li><li>71.8624957594386</li><li>71.9833736496293</li><li>72.1093001684814</li><li>72.2409580224449</li><li>72.3791733871164</li><li>72.5249603761983</li><li>72.6795843601098</li><li>72.8446546966338</li><li>73.0222651010706</li><li>73.2152146809289</li><li>73.4273730845375</li><li>73.6643207837906</li><li>73.9345608808544</li><li>74.2520582137565</li><li>74.6423808244538</li><li>75.1612467318955</li><li>75.9790436221225</li></ol>\n"
      ],
      "text/latex": [
       "\\begin{enumerate*}\n",
       "\\item 62.0209563778775\n",
       "\\item 62.8387532681045\n",
       "\\item 63.3576191755462\n",
       "\\item 63.7479417862435\n",
       "\\item 64.0654391191456\n",
       "\\item 64.3356792162094\n",
       "\\item 64.5726269154625\n",
       "\\item 64.7847853190711\n",
       "\\item 64.9777348989294\n",
       "\\item 65.1553453033662\n",
       "\\item 65.3204156398902\n",
       "\\item 65.4750396238017\n",
       "\\item 65.6208266128836\n",
       "\\item 65.7590419775551\n",
       "\\item 65.8906998315186\n",
       "\\item 66.0166263503707\n",
       "\\item 66.1375042405614\n",
       "\\item 66.2539047364716\n",
       "\\item 66.3663111148463\n",
       "\\item 66.4751362992813\n",
       "\\item 66.5807362589453\n",
       "\\item 66.6834203574339\n",
       "\\item 66.7834594524444\n",
       "\\item 66.8810923114797\n",
       "\\item 66.9765307494118\n",
       "\\item 67.0699637838213\n",
       "\\item 67.1615610269501\n",
       "\\item 67.2514754781864\n",
       "\\item 67.339845841333\n",
       "\\item 67.4267984618759\n",
       "\\item 67.5124489579576\n",
       "\\item 67.5969036026565\n",
       "\\item 67.6802605029803\n",
       "\\item 67.7626106116758\n",
       "\\item 67.8440386007773\n",
       "\\item 67.9246236202464\n",
       "\\item 68.0044399606896\n",
       "\\item 68.0835576357018\n",
       "\\item 68.1620428966576\n",
       "\\item 68.2399586905926\n",
       "\\item 68.3173650700765\n",
       "\\item 68.3943195625745\n",
       "\\item 68.4708775056574\n",
       "\\item 68.5470923535097\n",
       "\\item 68.6230159594348\n",
       "\\item 68.6986988384656\n",
       "\\item 68.7741904137005\n",
       "\\item 68.8495392496058\n",
       "\\item 68.9247932752239\n",
       "\\item 69\n",
       "\\item 69.0752067247761\n",
       "\\item 69.1504607503942\n",
       "\\item 69.2258095862995\n",
       "\\item 69.3013011615344\n",
       "\\item 69.3769840405652\n",
       "\\item 69.4529076464903\n",
       "\\item 69.5291224943426\n",
       "\\item 69.6056804374255\n",
       "\\item 69.6826349299235\n",
       "\\item 69.7600413094074\n",
       "\\item 69.8379571033424\n",
       "\\item 69.9164423642982\n",
       "\\item 69.9955600393104\n",
       "\\item 70.0753763797536\n",
       "\\item 70.1559613992227\n",
       "\\item 70.2373893883242\n",
       "\\item 70.3197394970197\n",
       "\\item 70.4030963973435\n",
       "\\item 70.4875510420424\n",
       "\\item 70.5732015381241\n",
       "\\item 70.660154158667\n",
       "\\item 70.7485245218136\n",
       "\\item 70.8384389730499\n",
       "\\item 70.9300362161787\n",
       "\\item 71.0234692505882\n",
       "\\item 71.1189076885203\n",
       "\\item 71.2165405475556\n",
       "\\item 71.3165796425661\n",
       "\\item 71.4192637410547\n",
       "\\item 71.5248637007187\n",
       "\\item 71.6336888851537\n",
       "\\item 71.7460952635284\n",
       "\\item 71.8624957594386\n",
       "\\item 71.9833736496293\n",
       "\\item 72.1093001684814\n",
       "\\item 72.2409580224449\n",
       "\\item 72.3791733871164\n",
       "\\item 72.5249603761983\n",
       "\\item 72.6795843601098\n",
       "\\item 72.8446546966338\n",
       "\\item 73.0222651010706\n",
       "\\item 73.2152146809289\n",
       "\\item 73.4273730845375\n",
       "\\item 73.6643207837906\n",
       "\\item 73.9345608808544\n",
       "\\item 74.2520582137565\n",
       "\\item 74.6423808244538\n",
       "\\item 75.1612467318955\n",
       "\\item 75.9790436221225\n",
       "\\end{enumerate*}\n"
      ],
      "text/markdown": [
       "1. 62.0209563778775\n",
       "2. 62.8387532681045\n",
       "3. 63.3576191755462\n",
       "4. 63.7479417862435\n",
       "5. 64.0654391191456\n",
       "6. 64.3356792162094\n",
       "7. 64.5726269154625\n",
       "8. 64.7847853190711\n",
       "9. 64.9777348989294\n",
       "10. 65.1553453033662\n",
       "11. 65.3204156398902\n",
       "12. 65.4750396238017\n",
       "13. 65.6208266128836\n",
       "14. 65.7590419775551\n",
       "15. 65.8906998315186\n",
       "16. 66.0166263503707\n",
       "17. 66.1375042405614\n",
       "18. 66.2539047364716\n",
       "19. 66.3663111148463\n",
       "20. 66.4751362992813\n",
       "21. 66.5807362589453\n",
       "22. 66.6834203574339\n",
       "23. 66.7834594524444\n",
       "24. 66.8810923114797\n",
       "25. 66.9765307494118\n",
       "26. 67.0699637838213\n",
       "27. 67.1615610269501\n",
       "28. 67.2514754781864\n",
       "29. 67.339845841333\n",
       "30. 67.4267984618759\n",
       "31. 67.5124489579576\n",
       "32. 67.5969036026565\n",
       "33. 67.6802605029803\n",
       "34. 67.7626106116758\n",
       "35. 67.8440386007773\n",
       "36. 67.9246236202464\n",
       "37. 68.0044399606896\n",
       "38. 68.0835576357018\n",
       "39. 68.1620428966576\n",
       "40. 68.2399586905926\n",
       "41. 68.3173650700765\n",
       "42. 68.3943195625745\n",
       "43. 68.4708775056574\n",
       "44. 68.5470923535097\n",
       "45. 68.6230159594348\n",
       "46. 68.6986988384656\n",
       "47. 68.7741904137005\n",
       "48. 68.8495392496058\n",
       "49. 68.9247932752239\n",
       "50. 69\n",
       "51. 69.0752067247761\n",
       "52. 69.1504607503942\n",
       "53. 69.2258095862995\n",
       "54. 69.3013011615344\n",
       "55. 69.3769840405652\n",
       "56. 69.4529076464903\n",
       "57. 69.5291224943426\n",
       "58. 69.6056804374255\n",
       "59. 69.6826349299235\n",
       "60. 69.7600413094074\n",
       "61. 69.8379571033424\n",
       "62. 69.9164423642982\n",
       "63. 69.9955600393104\n",
       "64. 70.0753763797536\n",
       "65. 70.1559613992227\n",
       "66. 70.2373893883242\n",
       "67. 70.3197394970197\n",
       "68. 70.4030963973435\n",
       "69. 70.4875510420424\n",
       "70. 70.5732015381241\n",
       "71. 70.660154158667\n",
       "72. 70.7485245218136\n",
       "73. 70.8384389730499\n",
       "74. 70.9300362161787\n",
       "75. 71.0234692505882\n",
       "76. 71.1189076885203\n",
       "77. 71.2165405475556\n",
       "78. 71.3165796425661\n",
       "79. 71.4192637410547\n",
       "80. 71.5248637007187\n",
       "81. 71.6336888851537\n",
       "82. 71.7460952635284\n",
       "83. 71.8624957594386\n",
       "84. 71.9833736496293\n",
       "85. 72.1093001684814\n",
       "86. 72.2409580224449\n",
       "87. 72.3791733871164\n",
       "88. 72.5249603761983\n",
       "89. 72.6795843601098\n",
       "90. 72.8446546966338\n",
       "91. 73.0222651010706\n",
       "92. 73.2152146809289\n",
       "93. 73.4273730845375\n",
       "94. 73.6643207837906\n",
       "95. 73.9345608808544\n",
       "96. 74.2520582137565\n",
       "97. 74.6423808244538\n",
       "98. 75.1612467318955\n",
       "99. 75.9790436221225\n",
       "\n",
       "\n"
      ],
      "text/plain": [
       " [1] 62.02096 62.83875 63.35762 63.74794 64.06544 64.33568 64.57263 64.78479\n",
       " [9] 64.97773 65.15535 65.32042 65.47504 65.62083 65.75904 65.89070 66.01663\n",
       "[17] 66.13750 66.25390 66.36631 66.47514 66.58074 66.68342 66.78346 66.88109\n",
       "[25] 66.97653 67.06996 67.16156 67.25148 67.33985 67.42680 67.51245 67.59690\n",
       "[33] 67.68026 67.76261 67.84404 67.92462 68.00444 68.08356 68.16204 68.23996\n",
       "[41] 68.31737 68.39432 68.47088 68.54709 68.62302 68.69870 68.77419 68.84954\n",
       "[49] 68.92479 69.00000 69.07521 69.15046 69.22581 69.30130 69.37698 69.45291\n",
       "[57] 69.52912 69.60568 69.68263 69.76004 69.83796 69.91644 69.99556 70.07538\n",
       "[65] 70.15596 70.23739 70.31974 70.40310 70.48755 70.57320 70.66015 70.74852\n",
       "[73] 70.83844 70.93004 71.02347 71.11891 71.21654 71.31658 71.41926 71.52486\n",
       "[81] 71.63369 71.74610 71.86250 71.98337 72.10930 72.24096 72.37917 72.52496\n",
       "[89] 72.67958 72.84465 73.02227 73.21521 73.42737 73.66432 73.93456 74.25206\n",
       "[97] 74.64238 75.16125 75.97904"
      ]
     },
     "metadata": {},
     "output_type": "display_data"
    }
   ],
   "source": [
    "# Suponga que las alturas de los hombres siguen una distribución normal \n",
    "# con una media de 69 pulgadas y una desviación estándar de 3 pulgadas. \n",
    "# Los cuantiles teóricos son:\n",
    "p <- seq(0.01, 0.99, 0.01)\n",
    "cuantiles_teoricos <- qnorm(p, 69, 3)\n",
    "cuantiles_teoricos"
   ]
  },
  {
   "attachments": {},
   "cell_type": "markdown",
   "metadata": {},
   "source": [
    "### Gráficos Q-Q"
   ]
  },
  {
   "attachments": {},
   "cell_type": "markdown",
   "metadata": {},
   "source": [
    "Una manera sistemática de evaluar cuán bien se ajusta la distribución normal a los datos es verificar si las proporciones observadas y predichas coinciden. En general, este es el acercamiento del gráfico Q-Q.\n",
    "\n",
    "Para construir un gráfico Q-Q, hacemos lo siguiente:\n",
    "\n",
    "1. Definimos un vector de 𝑚 dimensiones $p_1, p_2, \\ldots, p_m$\n",
    "2. Definimos un vector de cuantiles $q_1, q_2, \\ldots, q_m$ para las proporciones$p_1, p_2, \\ldots, p_m$ usando sus datos. Nos referimos a estos como los cuantiles muestrales (sample quantiles en inglés).\n",
    "3. Definimos un vector de cuantiles teóricos para las proporciones $p_1, p_2, \\ldots, p_m$ para una distribución normal con el mismo promedio y desviación estándar que los datos.\n",
    "4. Graficamos los cuantiles muestrales versus los cuantiles teóricos."
   ]
  },
  {
   "cell_type": "code",
   "execution_count": 6,
   "metadata": {
    "vscode": {
     "languageId": "r"
    }
   },
   "outputs": [
    {
     "data": {
      "text/html": [
       "0.514778325123153"
      ],
      "text/latex": [
       "0.514778325123153"
      ],
      "text/markdown": [
       "0.514778325123153"
      ],
      "text/plain": [
       "[1] 0.5147783"
      ]
     },
     "metadata": {},
     "output_type": "display_data"
    },
    {
     "data": {
      "image/png": "[encoded data removed]",
      "text/plain": [
       "plot without title"
      ]
     },
     "metadata": {
      "image/png": {
       "height": 420,
       "width": 420
      }
     },
     "output_type": "display_data"
    }
   ],
   "source": [
    "# definimos x and z\n",
    "library(tidyverse)\n",
    "library(dslabs)\n",
    "data(heights)\n",
    "index <- heights$sex==\"Male\"\n",
    "x <- heights$height[index]\n",
    "z <- scale(x)\n",
    "\n",
    "# Proporción de los datos por debajo de 69.5\n",
    "mean(x <= 69.5)\n",
    "\n",
    "# calculamos los cuantiles observados y teóricos\n",
    "p <- seq(0.05, 0.95, 0.05)\n",
    "cuantiles_observados <- quantile(x, p)\n",
    "cuantiles_teoricos <- qnorm(p, mean = mean(x), sd = sd(x))\n",
    "\n",
    "# Gráfico Q-Q\n",
    "plot(cuantiles_teoricos, cuantiles_observados)\n",
    "abline(0,1)"
   ]
  },
  {
   "cell_type": "code",
   "execution_count": 7,
   "metadata": {
    "vscode": {
     "languageId": "r"
    }
   },
   "outputs": [
    {
     "data": {
      "image/png": "[encoded data removed]",
      "text/plain": [
       "plot without title"
      ]
     },
     "metadata": {
      "image/png": {
       "height": 420,
       "width": 420
      }
     },
     "output_type": "display_data"
    }
   ],
   "source": [
    "# QQ-plot con valores estándar\n",
    "cuantiles_observados <- quantile(z, p)\n",
    "cuantiles_teoricos <- qnorm(p)\n",
    "plot(cuantiles_teoricos, cuantiles_observados)\n",
    "abline(0,1)"
   ]
  },
  {
   "attachments": {},
   "cell_type": "markdown",
   "metadata": {},
   "source": [
    "### Percentiles"
   ]
  },
  {
   "attachments": {},
   "cell_type": "markdown",
   "metadata": {},
   "source": [
    "Los percentiles son los cuantiles que se obtienen al configurar el 𝑝 a $0.01, 0.02, \\ldots , 0.99$. Denominamos, por ejemplo, el caso de 𝑝 = 0.25 el cuartil inferior, ya que nos da un número para el cual el 25% de los datos están por debajo. El percentil más famoso es el 50, también conocido como la mediana.\n",
    "\n",
    "Para la distribución normal, la mediana y el promedio son los mismos, pero generalmente este no es el caso.\n",
    "\n",
    "Otro caso especial que recibe un nombre son los cuartiles, que se obtienen al configurar 𝑝 = 0.25, 0.50 y 0.75."
   ]
  },
  {
   "attachments": {},
   "cell_type": "markdown",
   "metadata": {},
   "source": [
    "### Boxplots"
   ]
  },
  {
   "attachments": {},
   "cell_type": "markdown",
   "metadata": {},
   "source": [
    "- Cuando los datos no siguen una distribución normal y no pueden resumirse sucintamente solo por la media y la desviación estándar, una alternativa es informar un resumen de cinco números: rango (ignorando los valores atípicos) y los cuartiles (percentil 25, 50 y 75).\n",
    "- En un diagrama de caja, la caja está definida por los percentiles 25 y 75 y la mediana es una línea horizontal a través de la caja. Los bigotes muestran el rango excluyendo los valores atípicos, y los valores atípicos se trazan por separado como puntos individuales.\n",
    "- El rango intercuartílico es la distancia entre los percentiles 25 y 75.\n",
    "- Los diagramas de caja son particularmente útiles cuando se comparan distribuciones múltiples.\n",
    "\n",
    "Podemos gráficar un ejemplo utilizando el dataset de murders"
   ]
  },
  {
   "cell_type": "code",
   "execution_count": 19,
   "metadata": {
    "vscode": {
     "languageId": "r"
    }
   },
   "outputs": [
    {
     "data": {
      "image/png": "[encoded data removed]",
      "text/plain": [
       "Plot with title \"Boxplot de homicidios en EEUU\""
      ]
     },
     "metadata": {
      "image/png": {
       "height": 420,
       "width": 420
      }
     },
     "output_type": "display_data"
    }
   ],
   "source": [
    "# Cargar el paquete dslabs y el dataset murders\n",
    "library(dslabs)\n",
    "data(murders)\n",
    "\n",
    "# Crear el boxplot del total de homicidios\n",
    "boxplot(murders$total, main = \"Boxplot de homicidios en EEUU\")"
   ]
  },
  {
   "attachments": {},
   "cell_type": "markdown",
   "metadata": {},
   "source": [
    "## Evaluación 1.3: Quantiles, percentiles, and boxplots"
   ]
  },
  {
   "attachments": {},
   "cell_type": "markdown",
   "metadata": {},
   "source": [
    "### Ejercicio 1. Longitudes vectoriales\n",
    "\n",
    "Al analizar datos, a menudo es importante saber la cantidad de mediciones que tiene para cada categoría.\n",
    "\n",
    "- Defina una variable male que contenga las alturas de los hombres.\n",
    "- Defina una variable female que contenga las alturas femeninas.\n",
    "- Reporte la longitud de cada variable."
   ]
  },
  {
   "cell_type": "code",
   "execution_count": 21,
   "metadata": {
    "vscode": {
     "languageId": "r"
    }
   },
   "outputs": [
    {
     "name": "stdout",
     "output_type": "stream",
     "text": [
      "[1] 812\n",
      "[1] 238\n"
     ]
    }
   ],
   "source": [
    "source(\"./Scripts/1-3/Ejercicio1.r\", print.eval = TRUE)"
   ]
  },
  {
   "attachments": {},
   "cell_type": "markdown",
   "metadata": {},
   "source": [
    "### Ejercicio 2. Percentiles\n",
    "\n",
    "Supongamos que no podemos hacer un gráfico y queremos comparar las distribuciones una al lado de la otra. Si el número de puntos de datos es grande, enumerar todos los números no es práctico. Un enfoque más práctico es observar los percentiles. Podemos obtener percentiles usando la función cuantil como esta\n",
    "\n",
    "```r\n",
    "library(dslabs)\n",
    "data(heights)\n",
    "quantile(heights$height, seq(.01, 0.99, 0.01))\n",
    "```\n",
    "\n",
    "Supongan que no podemos hacer un gráfico y queremos comparar las distribuciones una al lado de otra. No podemos simplemente enumerar todos los números. En cambio,\n",
    "veremos los percentiles. Cree una tabla de cinco filas que muestre `female_percentiles` y `male_percentiles` con los percentiles 10, 30, 50, …, 90 para cada sexo. Luego, cree un data frame con estas dos como columnas."
   ]
  },
  {
   "cell_type": "code",
   "execution_count": 22,
   "metadata": {
    "vscode": {
     "languageId": "r"
    }
   },
   "outputs": [
    {
     "name": "stdout",
     "output_type": "stream",
     "text": [
      "      female     male\n",
      "10% 61.00000 65.00000\n",
      "30% 63.00000 68.00000\n",
      "50% 64.98031 69.00000\n",
      "70% 66.46417 71.00000\n",
      "90% 69.00000 73.22751\n"
     ]
    }
   ],
   "source": [
    "source(\"./Scripts/1-3/Ejercicio2.r\", print.eval = TRUE)"
   ]
  },
  {
   "attachments": {},
   "cell_type": "markdown",
   "metadata": {},
   "source": [
    "## 1.4 Análisis exploratorio de datos"
   ]
  },
  {
   "attachments": {},
   "cell_type": "markdown",
   "metadata": {},
   "source": [
    "### Distribución de las alturas femeninas"
   ]
  },
  {
   "attachments": {},
   "cell_type": "markdown",
   "metadata": {},
   "source": [
    "Usando el histograma, los gráficos de densidad y los gráficos Q-Q, nos hemos convencido de que los datos de altura masculina se aproximan bien con una distribución normal.\n",
    "\n",
    "En este caso, podemos reportar un resumen muy sucinto: las alturas masculinas siguen una distribución normal con un promedio de 69.3 pulgadas y una SD de 3.6 pulgadas. Con esta información, tendremos una buena idea de qué esperar cuando conozcamos a los estudiantes varones.\n",
    "\n",
    "Sin embargo, para proporcionar una imagen completa, también debemos proveer un resumen de las alturas femeninas.\n",
    "\n",
    "Los diagramas de caja son útiles cuando queremos comparar rápidamente dos o más distribuciones.\n",
    "\n",
    "Aquí vemos las alturas para hombres y mujeres:\n"
   ]
  },
  {
   "cell_type": "code",
   "execution_count": 25,
   "metadata": {
    "vscode": {
     "languageId": "r"
    }
   },
   "outputs": [
    {
     "data": {
      "image/png": "[encoded data removed]",
      "text/plain": [
       "Plot with title \"Alturas de mujeres y hombres\""
      ]
     },
     "metadata": {
      "image/png": {
       "height": 420,
       "width": 420
      }
     },
     "output_type": "display_data"
    }
   ],
   "source": [
    "# cargar el paquete dslabs\n",
    "library(dslabs)\n",
    "\n",
    "# cargar el dataset heights\n",
    "data(heights)\n",
    "\n",
    "# crear dos vectores con las alturas de mujeres y hombres\n",
    "heights_women <- subset(heights, sex == \"Female\")$height\n",
    "heights_men <- subset(heights, sex == \"Male\")$height\n",
    "\n",
    "# crear un vector con las etiquetas para el boxplot\n",
    "labels <- c(\"Mujeres\", \"Hombres\")\n",
    "\n",
    "# usar la función boxplot para crear el boxplot con los datos de altura de mujeres y hombres\n",
    "boxplot(heights_women, heights_men, names.arg = labels, col = c(\"pink\", \"lightblue\"), main = \"Alturas de mujeres y hombres\", ylab = \"Altura\")\n",
    "\n",
    "# agregar una leyenda\n",
    "legend(\"topright\", legend = labels, fill = c(\"pink\", \"lightblue\"))"
   ]
  },
  {
   "attachments": {},
   "cell_type": "markdown",
   "metadata": {},
   "source": [
    "El diagrama inmediatamente demuestra que los hombres son, en promedio, más altos que las mujeres. \n",
    "\n",
    "Las desviaciones estándar parecen ser similares. Pero, ¿la aproximación normal también funciona para los datos de altura femenina recopilados por la encuesta? Esperamos que sigan una distribución normal, al igual que los varones. \n",
    "\n",
    "Sin embargo, los gráficos exploratorios revelan que la aproximación no es tan útil:"
   ]
  },
  {
   "cell_type": "code",
   "execution_count": 54,
   "metadata": {
    "vscode": {
     "languageId": "r"
    }
   },
   "outputs": [
    {
     "data": {
      "image/png": "[encoded data removed]",
      "text/plain": [
       "Plot with title \"\""
      ]
     },
     "metadata": {
      "image/png": {
       "height": 420,
       "width": 420
      }
     },
     "output_type": "display_data"
    }
   ],
   "source": [
    "# cargar el paquete dslabs\n",
    "library(dslabs)\n",
    "\n",
    "# cargar el dataset heights\n",
    "data(heights)\n",
    "\n",
    "# crear un vector con las alturas de mujeres\n",
    "heights_women <- subset(heights, sex == \"Female\")$height\n",
    "\n",
    "# calcular la densidad de las alturas de mujeres\n",
    "dens_women <- density(heights_women)\n",
    "\n",
    "# dividir la ventana gráfica en dos\n",
    "layout(matrix(c(1, 2), nrow = 1), widths = c(3, 3))\n",
    "\n",
    "# gráficar la densidad de las alturas de mujeres con relleno rosa\n",
    "plot(dens_women, xlab = \"heights\", main = \"\",)\n",
    "polygon(dens_women, col = \"pink\", border = NA)\n",
    "\n",
    "# gráficar el Q-Q de las alturas de mujeres\n",
    "qqnorm(heights_women, main = \"\")\n",
    "qqline(heights_women, col = 2)\n"
   ]
  },
  {
   "attachments": {},
   "cell_type": "markdown",
   "metadata": {},
   "source": [
    "Vemos algo que no observamos para los varones: el gráfico de densidad tiene una segunda protuberancia. Además, el gráfico Q-Q muestra que los puntos más altos tienden a ser más altos de lo esperado por la distribución normal. Finalmente, también vemos cinco puntos en el gráfico Q-Q que sugieren alturas más bajas de lo esperado para una distribución normal.\n",
    "\n",
    "Es posible que necesitemos proveer un histograma en lugar de solo el promedio y la desviación estándar para las alturas femeninas. \n",
    "\n",
    "Si observamos otras distribuciones de altura femenina, encontramos que están bien aproximadas con una distribución normal. Entonces, ¿por qué son diferentes nuestras alumnas? ¿Es nuestra clase un requisito para el equipo femenino de baloncesto?¿Hay una proporción pequeña de mujeres que dicen ser más altas de lo que son?\n",
    "\n",
    "Otra explicación, quizás más probable, es que en el formulario en que los estudiantes ingresaron sus alturas, FEMALE era el sexo predeterminado y algunos varones ingresaron sus alturas, pero olvidaron cambiar la variable de sexo. En cualquier caso, la visualización de datos ha ayudado a descubrir una posible falla en nuestros datos."
   ]
  },
  {
   "attachments": {},
   "cell_type": "markdown",
   "metadata": {},
   "source": [
    "> Un gráfico puede obligarnos a ver resultados inesperados que nos hagan cuestionar la calidad o las implicaciones de nuestros datos."
   ]
  },
  {
   "attachments": {},
   "cell_type": "markdown",
   "metadata": {},
   "source": [
    "## Evaluación 1.4: Resúmenes robustos con valores atípicos"
   ]
  },
  {
   "attachments": {},
   "cell_type": "markdown",
   "metadata": {},
   "source": [
    "### Ejercicio 1: Exploración del conjunto de datos de Galton: promedio y mediana\n",
    "Para este capítulo, utilizaremos los datos de altura recopilados por Francis Galton para sus estudios genéticos. Aquí solo usamos la altura de los niños en el conjunto de datos:\n",
    "\n",
    "```r\n",
    "library(HistData)\n",
    "data(Galton)\n",
    "x <- Galton$child\n",
    "```\n",
    "\n",
    "Calcule el promedio y la mediana de estos datos. Nota: no los asigne a una variable."
   ]
  },
  {
   "cell_type": "code",
   "execution_count": 55,
   "metadata": {
    "vscode": {
     "languageId": "r"
    }
   },
   "outputs": [
    {
     "name": "stderr",
     "output_type": "stream",
     "text": [
      "Warning message:\n",
      "\"package 'HistData' was built under R version 4.2.3\"\n"
     ]
    },
    {
     "name": "stdout",
     "output_type": "stream",
     "text": [
      "[1] 68.08847\n",
      "[1] 68.2\n"
     ]
    }
   ],
   "source": [
    "source(\"./Scripts/1-4/Ejercicio1.r\", print.eval = TRUE)"
   ]
  },
  {
   "attachments": {},
   "cell_type": "markdown",
   "metadata": {},
   "source": [
    "### Ejercicio 2. Explorando el conjunto de datos Galton - SD y MAD\n",
    "\n",
    "Ahora, para los mismos datos, calcule la desviación estándar y la desviación absoluta mediana (MAD)."
   ]
  },
  {
   "cell_type": "code",
   "execution_count": 56,
   "metadata": {
    "vscode": {
     "languageId": "r"
    }
   },
   "outputs": [
    {
     "name": "stdout",
     "output_type": "stream",
     "text": [
      "[1] 2.517941\n",
      "[1] 2.9652\n"
     ]
    }
   ],
   "source": [
    "source(\"./Scripts/1-4/Ejercicio2.r\", print.eval = TRUE)"
   ]
  },
  {
   "attachments": {},
   "cell_type": "markdown",
   "metadata": {},
   "source": [
    "### Ejercicio 3. Impacto del error en promedio\n",
    "\n",
    "En los ejercicios anteriores vimos que la media y la mediana son muy similares y también lo son la desviación estándar y la MAD. Esto es de esperar ya que los datos se aproximan mediante una distribución normal que tiene esta propiedad.\n",
    "\n",
    "Ahora suponga que Galton cometió un error al ingresar el primer valor, olvidándose de usar el punto decimal. Puede imitar este error escribiendo:\n",
    "\n",
    "```r\n",
    "library(HistData)\n",
    "data(Galton)\n",
    "x <- Galton$child\n",
    "x_with_error <- x\n",
    "x_with_error[1] <- x_with_error[1]*10\n",
    "```\n",
    "\n",
    "Los datos ahora tienen un valor atípico que la aproximación normal no tiene en cuenta. Veamos cómo afecta esto al promedio.\n",
    "\n",
    "Informa cuántas pulgadas crece el promedio después de este error. Específicamente, reporte la diferencia entre el promedio de los datos con el error x_with_error y los datos sin el error x."
   ]
  },
  {
   "cell_type": "code",
   "execution_count": 57,
   "metadata": {
    "vscode": {
     "languageId": "r"
    }
   },
   "outputs": [
    {
     "name": "stdout",
     "output_type": "stream",
     "text": [
      "[1] 0.5983836\n"
     ]
    }
   ],
   "source": [
    "source(\"./Scripts/1-4/Ejercicio3.r\", print.eval = TRUE)"
   ]
  },
  {
   "attachments": {},
   "cell_type": "markdown",
   "metadata": {},
   "source": [
    "### Ejercicio 4. Impacto del error en SD\n",
    "\n",
    "En el ejercicio anterior vimos cómo un simple error en 1 de más de 900 observaciones puede resultar en que el promedio de nuestros datos aumente más de media pulgada, lo cual es una gran diferencia en términos prácticos. Ahora exploremos el efecto que tiene este valor atípico en la desviación estándar.\n",
    "\n",
    "Informar cuantas pulgadas crece la SD después de este error. Específicamente, reporte la diferencia entre la SD de los datos con el error x_with_error y los datos sin el error x."
   ]
  },
  {
   "cell_type": "code",
   "execution_count": 58,
   "metadata": {
    "vscode": {
     "languageId": "r"
    }
   },
   "outputs": [
    {
     "name": "stdout",
     "output_type": "stream",
     "text": [
      "[1] 15.6746\n"
     ]
    }
   ],
   "source": [
    "source(\"./Scripts/1-4/Ejercicio4.r\", print.eval = TRUE)"
   ]
  },
  {
   "attachments": {},
   "cell_type": "markdown",
   "metadata": {},
   "source": [
    "### Ejercicio 5. Impacto del error en la mediana\n",
    "\n",
    "En los ejercicios anteriores vimos cómo un error puede tener un efecto sustancial en el promedio y la desviación estándar.\n",
    "\n",
    "Ahora vamos a ver como la mediana y la MAD son mucho más resistentes a los valores atípicos. Por eso decimos que son resúmenes robustos.\n",
    "\n",
    "Informa cuántas pulgadas crece la mediana después del error. Específicamente, reporte la diferencia entre la mediana de los datos con el error x_with_error y los datos sin el error x."
   ]
  },
  {
   "cell_type": "code",
   "execution_count": 59,
   "metadata": {
    "vscode": {
     "languageId": "r"
    }
   },
   "outputs": [
    {
     "name": "stdout",
     "output_type": "stream",
     "text": [
      "[1] 0\n"
     ]
    }
   ],
   "source": [
    "source(\"./Scripts/1-4/Ejercicio5.r\", print.eval = TRUE)"
   ]
  },
  {
   "attachments": {},
   "cell_type": "markdown",
   "metadata": {},
   "source": [
    "### Ejercicio 6. Impacto del error en MAD\n",
    "\n",
    "Vimos que la mediana apenas cambia. Ahora veamos cómo se ve afectado el MAD.\n",
    "\n",
    "Informa cuántas pulgadas crece el MAD después del error. Específicamente, reporte la diferencia entre la MAD de los datos con el error x_with_error y los datos sin el error x."
   ]
  },
  {
   "cell_type": "code",
   "execution_count": 60,
   "metadata": {
    "vscode": {
     "languageId": "r"
    }
   },
   "outputs": [
    {
     "name": "stdout",
     "output_type": "stream",
     "text": [
      "[1] 0\n"
     ]
    }
   ],
   "source": [
    "source(\"./Scripts/1-4/Ejercicio6.r\", print.eval = TRUE)"
   ]
  },
  {
   "attachments": {},
   "cell_type": "markdown",
   "metadata": {},
   "source": [
    "### Ejercicio 7. Uso de EDA para explorar cambios\n",
    "Hemos visto cómo el promedio puede verse afectado por valores atípicos. Pero, ¿qué tan grande puede llegar a ser este efecto? Por supuesto, esto depende del tamaño del valor atípico y del tamaño del conjunto de datos.\n",
    "\n",
    "Para ver cómo los valores atípicos pueden afectar el promedio de un conjunto de datos, escribamos una función simple que tome el tamaño del valor atípico como entrada y devuelva el promedio.\n",
    "\n",
    "Escriba una función llamada error_avg que tome un valor k y devuelva el promedio del vector x después de que la primera entrada cambió a k. Mostrar los resultados para k=10000 y k=-10000"
   ]
  },
  {
   "cell_type": "code",
   "execution_count": 61,
   "metadata": {
    "vscode": {
     "languageId": "r"
    }
   },
   "outputs": [
    {
     "name": "stdout",
     "output_type": "stream",
     "text": [
      "[1] 78.79784\n",
      "[1] 57.24612\n"
     ]
    }
   ],
   "source": [
    "source(\"./Scripts/1-4/Ejercicio7.r\", print.eval = TRUE)"
   ]
  }
 ],
 "metadata": {
  "kernelspec": {
   "display_name": "R",
   "language": "R",
   "name": "ir"
  },
  "language_info": {
   "codemirror_mode": "r",
   "file_extension": ".r",
   "mimetype": "text/x-r-source",
   "name": "R",
   "pygments_lexer": "r",
   "version": "4.2.2"
  },
  "orig_nbformat": 4
 },
 "nbformat": 4,
 "nbformat_minor": 2
}
