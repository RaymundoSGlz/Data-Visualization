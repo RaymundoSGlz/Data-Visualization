{
 "cells": [
  {
   "attachments": {},
   "cell_type": "markdown",
   "metadata": {},
   "source": [
    "# Sección 1: Introducción a la Visualización de datos y a las distribuciones"
   ]
  },
  {
   "attachments": {},
   "cell_type": "markdown",
   "metadata": {},
   "source": [
    "## 1.1 Introducción a la visualización de datos"
   ]
  },
  {
   "attachments": {},
   "cell_type": "markdown",
   "metadata": {},
   "source": [
    "### Introducción a la visualización de datos"
   ]
  },
  {
   "attachments": {},
   "cell_type": "markdown",
   "metadata": {},
   "source": [
    "Raras veces es útil mirar los números y las cadenas de caracteres que definen un set de datos. Para confirmar esto, observemos la tabla de datos de asesinatos de Estados Unidos:"
   ]
  },
  {
   "cell_type": "code",
   "execution_count": 1,
   "metadata": {
    "vscode": {
     "languageId": "r"
    }
   },
   "outputs": [
    {
     "data": {
      "text/html": [
       "<table class=\"dataframe\">\n",
       "<caption>A data.frame: 6 × 5</caption>\n",
       "<thead>\n",
       "\t<tr><th></th><th scope=col>state</th><th scope=col>abb</th><th scope=col>region</th><th scope=col>population</th><th scope=col>total</th></tr>\n",
       "\t<tr><th></th><th scope=col>&lt;chr&gt;</th><th scope=col>&lt;chr&gt;</th><th scope=col>&lt;fct&gt;</th><th scope=col>&lt;dbl&gt;</th><th scope=col>&lt;dbl&gt;</th></tr>\n",
       "</thead>\n",
       "<tbody>\n",
       "\t<tr><th scope=row>1</th><td>Alabama   </td><td>AL</td><td>South</td><td> 4779736</td><td> 135</td></tr>\n",
       "\t<tr><th scope=row>2</th><td>Alaska    </td><td>AK</td><td>West </td><td>  710231</td><td>  19</td></tr>\n",
       "\t<tr><th scope=row>3</th><td>Arizona   </td><td>AZ</td><td>West </td><td> 6392017</td><td> 232</td></tr>\n",
       "\t<tr><th scope=row>4</th><td>Arkansas  </td><td>AR</td><td>South</td><td> 2915918</td><td>  93</td></tr>\n",
       "\t<tr><th scope=row>5</th><td>California</td><td>CA</td><td>West </td><td>37253956</td><td>1257</td></tr>\n",
       "\t<tr><th scope=row>6</th><td>Colorado  </td><td>CO</td><td>West </td><td> 5029196</td><td>  65</td></tr>\n",
       "</tbody>\n",
       "</table>\n"
      ],
      "text/latex": [
       "A data.frame: 6 × 5\n",
       "\\begin{tabular}{r|lllll}\n",
       "  & state & abb & region & population & total\\\\\n",
       "  & <chr> & <chr> & <fct> & <dbl> & <dbl>\\\\\n",
       "\\hline\n",
       "\t1 & Alabama    & AL & South &  4779736 &  135\\\\\n",
       "\t2 & Alaska     & AK & West  &   710231 &   19\\\\\n",
       "\t3 & Arizona    & AZ & West  &  6392017 &  232\\\\\n",
       "\t4 & Arkansas   & AR & South &  2915918 &   93\\\\\n",
       "\t5 & California & CA & West  & 37253956 & 1257\\\\\n",
       "\t6 & Colorado   & CO & West  &  5029196 &   65\\\\\n",
       "\\end{tabular}\n"
      ],
      "text/markdown": [
       "\n",
       "A data.frame: 6 × 5\n",
       "\n",
       "| <!--/--> | state &lt;chr&gt; | abb &lt;chr&gt; | region &lt;fct&gt; | population &lt;dbl&gt; | total &lt;dbl&gt; |\n",
       "|---|---|---|---|---|---|\n",
       "| 1 | Alabama    | AL | South |  4779736 |  135 |\n",
       "| 2 | Alaska     | AK | West  |   710231 |   19 |\n",
       "| 3 | Arizona    | AZ | West  |  6392017 |  232 |\n",
       "| 4 | Arkansas   | AR | South |  2915918 |   93 |\n",
       "| 5 | California | CA | West  | 37253956 | 1257 |\n",
       "| 6 | Colorado   | CO | West  |  5029196 |   65 |\n",
       "\n"
      ],
      "text/plain": [
       "  state      abb region population total\n",
       "1 Alabama    AL  South   4779736    135 \n",
       "2 Alaska     AK  West     710231     19 \n",
       "3 Arizona    AZ  West    6392017    232 \n",
       "4 Arkansas   AR  South   2915918     93 \n",
       "5 California CA  West   37253956   1257 \n",
       "6 Colorado   CO  West    5029196     65 "
      ]
     },
     "metadata": {},
     "output_type": "display_data"
    }
   ],
   "source": [
    "library(dslabs)\n",
    "data(murders)\n",
    "head(murders)"
   ]
  },
  {
   "attachments": {},
   "cell_type": "markdown",
   "metadata": {},
   "source": [
    "Es bastante difícil extraer información relevante simplemente mirando los números.\n",
    "En cambio, dicha información podemos mostrarla fácilmente disponibles al presentarla en forma gráfica.\n",
    "\n",
    "La visualización de datos ofrece una forma muy efectiva de comunicar hallazgos basados en datos. En algunos casos, la visualización es tan convincente que no requiere un análisis de seguimiento.\n"
   ]
  },
  {
   "attachments": {},
   "cell_type": "markdown",
   "metadata": {},
   "source": [
    "### Introducción a las distribuciones"
   ]
  },
  {
   "attachments": {},
   "cell_type": "markdown",
   "metadata": {},
   "source": [
    "Los datos numéricos a menudo se resumen con el valor promedio. Por ejemplo, la calidad de una escuela secundaria a veces se resume con un solo número: la puntuación promedio\n",
    "en una prueba estandarizada. Ocasionalmente, se incluye un segundo número: la desviación estándar. Por ejemplo, pueden leer un informe que indique que las puntuaciones fueron 680\n",
    "más o menos 50 (la desviación estándar). El informe ha resumido un vector completo de puntuaciones con solo dos números. ¿Es esto apropiado? ¿Hay alguna información importante\n",
    "que no estamos considerando al ver este resumen en lugar de la lista completa?\n",
    "\n",
    "Nuestro primer componente básico de visualización de datos es aprender a resumir listas de factores o vectores numéricos. Generalmente, la mejor manera de compartir o explorar\n",
    "este resumen es a través de la visualización de datos. El resumen estadístico más básico de una lista de objetos o números es su distribución. Una vez que un vector se haya resumido\n",
    "como una distribución, existen varias técnicas de visualización de datos para transmitir esta información de manera efectiva."
   ]
  },
  {
   "attachments": {},
   "cell_type": "markdown",
   "metadata": {},
   "source": [
    "### Tipos de variables"
   ]
  },
  {
   "attachments": {},
   "cell_type": "markdown",
   "metadata": {},
   "source": [
    "Los dos tipos principales de variables son:\n",
    "\n",
    "* Categóricas: son variables definidas por un pequeño número de grupos.\n",
    "    *  Ordinales: se pueden ordenar aunque no sean números, por ejemplo cuán picante es una comida (poco, medio, muy)\n",
    "    * No ordinales: no tienen orden en las categorías.\n",
    "* Datos numéricos: toman una variedad de valores numéricos.\n",
    "    * Continuas: pueden tomar cualquier valor.\n",
    "    * Discretas: se limitan a conjuntos de valores específicos."
   ]
  },
  {
   "attachments": {},
   "cell_type": "markdown",
   "metadata": {},
   "source": [
    "## Evaluación 1.1: Tipos de datos"
   ]
  },
  {
   "attachments": {},
   "cell_type": "markdown",
   "metadata": {},
   "source": [
    "### Ejercicio 1. Nombres de variables\n",
    "\n",
    "El tipo de datos con los que estamos trabajando a menudo influirá en la técnica de visualización de datos que utilizamos. Trabajaremos con dos tipos de variables: categóricas y numéricas. Cada uno se puede dividir en otros dos grupos: categórico puede ser ordinal o no, mientras que las variables numéricas pueden ser discretas o continuas.\n",
    "\n",
    "Revisaremos los tipos de datos utilizando algunos de los ejemplos proporcionados en el paquete `dslabs`. Por ejemplo, el conjunto de datos de `alturas`."
   ]
  },
  {
   "attachments": {},
   "cell_type": "markdown",
   "metadata": {},
   "source": [
    "Instrucciones:\n",
    "\n",
    "Comencemos revisando cómo extraer los nombres de variables de un conjunto de datos utilizando la función `names`. ¿Cuáles son los dos nombres de variable utilizados en el dataset de `heights`?"
   ]
  },
  {
   "cell_type": "code",
   "execution_count": 2,
   "metadata": {
    "vscode": {
     "languageId": "r"
    }
   },
   "outputs": [
    {
     "name": "stdout",
     "output_type": "stream",
     "text": [
      "[1] \"sex\"    \"height\"\n"
     ]
    }
   ],
   "source": [
    "source(\"Scripts/1-1/Ejercicio1.R\", print.eval = TRUE)"
   ]
  },
  {
   "attachments": {},
   "cell_type": "markdown",
   "metadata": {},
   "source": [
    "### Ejercicio 2. Tipo de variable\n",
    "Vimos que `sex` es la primera variable. Sabemos qué valores están representados por esta variable y podemos confirmarlo mirando los primeros enteros:"
   ]
  },
  {
   "attachments": {},
   "cell_type": "markdown",
   "metadata": {},
   "source": [
    "¿Qué tipo de datos es la variable de `sex`?"
   ]
  },
  {
   "cell_type": "code",
   "execution_count": 3,
   "metadata": {
    "vscode": {
     "languageId": "r"
    }
   },
   "outputs": [
    {
     "name": "stdout",
     "output_type": "stream",
     "text": [
      "     sex height\n",
      "1   Male     75\n",
      "2   Male     70\n",
      "3   Male     68\n",
      "4   Male     74\n",
      "5   Male     61\n",
      "6 Female     65\n",
      "[1] \"Categórica\"\n"
     ]
    }
   ],
   "source": [
    "source(\"Scripts/1-1/Ejercicio2.R\", print.eval = TRUE)"
   ]
  },
  {
   "attachments": {},
   "cell_type": "markdown",
   "metadata": {},
   "source": [
    "### Ejercicio 3. Valores numéricos\n",
    "Tenga en cuenta que los datos numéricos discretos pueden considerarse ordinales. Aunque esto es técnicamente cierto, generalmente reservamos el término datos ordinales para variables que pertenecen a un pequeño número de grupos diferentes, con cada grupo con muchos miembros.\n",
    "\n",
    "La variable altura podría ser ordinal si, por ejemplo, informamos un pequeño número de valores como corto, medio y alto. Exploremos cuántos valores únicos utiliza la variable alturas. Para ello podemos utilizar la función `unique`:"
   ]
  },
  {
   "attachments": {},
   "cell_type": "markdown",
   "metadata": {},
   "source": [
    "Instrucciones:\n",
    "\n",
    "Utilice las funciones `unique` y `length` para determinar cuántas alturas únicas se han notificado."
   ]
  },
  {
   "cell_type": "code",
   "execution_count": 4,
   "metadata": {
    "vscode": {
     "languageId": "r"
    }
   },
   "outputs": [
    {
     "name": "stdout",
     "output_type": "stream",
     "text": [
      "[1] 139\n"
     ]
    }
   ],
   "source": [
    "source(\"Scripts/1-1/Ejercicio3.R\", print.eval = TRUE)"
   ]
  },
  {
   "attachments": {},
   "cell_type": "markdown",
   "metadata": {},
   "source": [
    "### Ejercicio 4: Tablas\n",
    "\n",
    "Uno de los resultados útiles de la visualización de datos es que podemos aprender sobre la distribución de variables. Para datos categóricos podemos construir esta distribución simplemente calculando la frecuencia de cada valor único. Esto se puede hacer con la función `table`"
   ]
  },
  {
   "attachments": {},
   "cell_type": "markdown",
   "metadata": {},
   "source": [
    "Instrucciones:\n",
    "\n",
    "Utilice la función `table` para calcular las frecuencias de cada valor de altura único. Debido a que estaremos usando la tabla de frecuencia resultante en un ejercicio posterior, queremos que guarde los resultados en un objeto y lo llame `tab`."
   ]
  },
  {
   "cell_type": "code",
   "execution_count": 5,
   "metadata": {
    "vscode": {
     "languageId": "r"
    }
   },
   "outputs": [
    {
     "name": "stdout",
     "output_type": "stream",
     "text": [
      "x\n",
      "   50    51    52    53 53.77    54 \n",
      "    2     1     2     1     1     1 \n"
     ]
    }
   ],
   "source": [
    "source(\"Scripts/1-1/Ejercicio4.R\", print.eval = TRUE)"
   ]
  },
  {
   "attachments": {},
   "cell_type": "markdown",
   "metadata": {},
   "source": [
    "### Ejercicio 5: Variables indicadoras\n",
    "\n",
    "Para ver por qué tratar las alturas reportadas como un valor ordinal no es útil en la práctica, notamos cuántos valores se informan solo una vez."
   ]
  },
  {
   "attachments": {},
   "cell_type": "markdown",
   "metadata": {},
   "source": [
    "Instrucciones:\n",
    "\n",
    "En el ejercicio anterior calculamos la variable `tab` que informa el número de veces que aparece cada valor único. Para los valores informados sólo una vez la pestaña será 1. Use lógicas y la función `sum` para contar el número de veces que esto sucede."
   ]
  },
  {
   "cell_type": "code",
   "execution_count": 6,
   "metadata": {
    "vscode": {
     "languageId": "r"
    }
   },
   "outputs": [
    {
     "name": "stdout",
     "output_type": "stream",
     "text": [
      "[1] 63\n"
     ]
    }
   ],
   "source": [
    "source(\"Scripts/1-1/Ejercicio5.R\", print.eval = TRUE)"
   ]
  },
  {
   "attachments": {},
   "cell_type": "markdown",
   "metadata": {},
   "source": [
    "## 1.2 Introducción a las distribuciones"
   ]
  },
  {
   "attachments": {},
   "cell_type": "markdown",
   "metadata": {},
   "source": [
    "### Estudio de caso: describiendo alturas de estudiantes"
   ]
  },
  {
   "attachments": {},
   "cell_type": "markdown",
   "metadata": {},
   "source": [
    "Imaginen que tenemos que describir las alturas de nuestros compañeros de clase a ET, un extraterrestre que nunca ha visto humanos. Como primer paso, necesitamos recopilar datos.\n",
    "Para hacer esto, les pedimos a los estudiantes que indiquen sus alturas en pulgadas. Les pedimos que nos provean información sobre su sexo biológico porque sabemos que hay dos\n",
    "distribuciones diferentes por sexo. Recopilamos los datos y los guardamos en el set de datos `heights`:"
   ]
  },
  {
   "cell_type": "code",
   "execution_count": 7,
   "metadata": {
    "vscode": {
     "languageId": "r"
    }
   },
   "outputs": [
    {
     "data": {
      "text/html": [
       "<table class=\"dataframe\">\n",
       "<caption>A data.frame: 6 × 2</caption>\n",
       "<thead>\n",
       "\t<tr><th></th><th scope=col>sex</th><th scope=col>height</th></tr>\n",
       "\t<tr><th></th><th scope=col>&lt;fct&gt;</th><th scope=col>&lt;dbl&gt;</th></tr>\n",
       "</thead>\n",
       "<tbody>\n",
       "\t<tr><th scope=row>1</th><td>Male  </td><td>75</td></tr>\n",
       "\t<tr><th scope=row>2</th><td>Male  </td><td>70</td></tr>\n",
       "\t<tr><th scope=row>3</th><td>Male  </td><td>68</td></tr>\n",
       "\t<tr><th scope=row>4</th><td>Male  </td><td>74</td></tr>\n",
       "\t<tr><th scope=row>5</th><td>Male  </td><td>61</td></tr>\n",
       "\t<tr><th scope=row>6</th><td>Female</td><td>65</td></tr>\n",
       "</tbody>\n",
       "</table>\n"
      ],
      "text/latex": [
       "A data.frame: 6 × 2\n",
       "\\begin{tabular}{r|ll}\n",
       "  & sex & height\\\\\n",
       "  & <fct> & <dbl>\\\\\n",
       "\\hline\n",
       "\t1 & Male   & 75\\\\\n",
       "\t2 & Male   & 70\\\\\n",
       "\t3 & Male   & 68\\\\\n",
       "\t4 & Male   & 74\\\\\n",
       "\t5 & Male   & 61\\\\\n",
       "\t6 & Female & 65\\\\\n",
       "\\end{tabular}\n"
      ],
      "text/markdown": [
       "\n",
       "A data.frame: 6 × 2\n",
       "\n",
       "| <!--/--> | sex &lt;fct&gt; | height &lt;dbl&gt; |\n",
       "|---|---|---|\n",
       "| 1 | Male   | 75 |\n",
       "| 2 | Male   | 70 |\n",
       "| 3 | Male   | 68 |\n",
       "| 4 | Male   | 74 |\n",
       "| 5 | Male   | 61 |\n",
       "| 6 | Female | 65 |\n",
       "\n"
      ],
      "text/plain": [
       "  sex    height\n",
       "1 Male   75    \n",
       "2 Male   70    \n",
       "3 Male   68    \n",
       "4 Male   74    \n",
       "5 Male   61    \n",
       "6 Female 65    "
      ]
     },
     "metadata": {},
     "output_type": "display_data"
    }
   ],
   "source": [
    "# Cargamos el dataset\n",
    "library(dslabs)\n",
    "data(heights)\n",
    "# Mostramos las primeras entradas\n",
    "head(heights)"
   ]
  },
  {
   "attachments": {},
   "cell_type": "markdown",
   "metadata": {},
   "source": [
    "El resumen estadístico más básico de una lista de objetos o números es su distribución. La forma más sencilla de pensar en una distribución es como una descripción compacta de una lista con muchas entradas."
   ]
  },
  {
   "attachments": {},
   "cell_type": "markdown",
   "metadata": {},
   "source": [
    "El sexo representado en el set de datos de alturas es:"
   ]
  },
  {
   "cell_type": "code",
   "execution_count": 8,
   "metadata": {
    "vscode": {
     "languageId": "r"
    }
   },
   "outputs": [
    {
     "data": {
      "text/plain": [
       "\n",
       "   Female      Male \n",
       "0.2266667 0.7733333 "
      ]
     },
     "metadata": {},
     "output_type": "display_data"
    }
   ],
   "source": [
    "# creamos una tabla con las proporciones por categoría\n",
    "prop.table(table(heights$sex))"
   ]
  },
  {
   "attachments": {},
   "cell_type": "markdown",
   "metadata": {},
   "source": [
    "- Una distribución es una función o descripción que muestra los posibles valores de una variable y con qué frecuencia ocurren esos valores.\n",
    "- Para las variables categóricas, la distribución describe las proporciones de cada categoría.\n",
    "- Una tabla de frecuencias es la forma más sencilla de mostrar una distribución categórica. \n",
    "- Use `prop.table()` para convertir una tabla de conteos en una tabla de frecuencia. Los diagramas de barras muestran la distribución de variables categóricas y son una forma de visualizar la información en tablas de frecuencia."
   ]
  },
  {
   "attachments": {},
   "cell_type": "markdown",
   "metadata": {},
   "source": [
    "Los datos numéricos que no son categóricos también tienen distribuciones. En general, cuando los datos no son categóricos, indicar la frecuencia de cada entrada no es un resumen efectivo, ya que la mayoría de las entradas son únicas.\n",
    "\n",
    "La forma más útil de definir una distribución de datos numéricos es definir una función que indique la proporción de los datos a continuación 𝑎 para todos los valores posibles de 𝑎. Esta función se llama la función de distribución acumulada (cumulative distribution function o CDF por sus siglas en inglés).\n",
    "\n",
    "Usando la siguiente notación:\n",
    "\n",
    "$$ F(a) = P(x \\leq a) $$"
   ]
  },
  {
   "cell_type": "code",
   "execution_count": 9,
   "metadata": {
    "vscode": {
     "languageId": "r"
    }
   },
   "outputs": [
    {
     "data": {
      "image/png": "[encoded data removed]",
      "text/plain": [
       "plot without title"
      ]
     },
     "metadata": {
      "image/png": {
       "height": 420,
       "width": 420
      }
     },
     "output_type": "display_data"
    }
   ],
   "source": [
    "# Cargar las librerías ggplot2 y dslabs\n",
    "library(ggplot2)\n",
    "library(dslabs)\n",
    "\n",
    "# Filtrar los datos para incluir solo el sexo masculino\n",
    "heights_male <- subset(heights, sex == \"Male\")\n",
    "\n",
    "# Asegurarse de que la columna de altura es de tipo numeric\n",
    "heights_male$height <- as.numeric(heights_male$height)\n",
    "\n",
    "# Calcular la FDA para los datos del sexo masculino\n",
    "fda <- ecdf(heights_male$height)\n",
    "\n",
    "# Crear un data frame con dos columnas: altura y FDA\n",
    "df <- data.frame(height=heights_male$height, fda=fda(heights_male$height))\n",
    "\n",
    "# Crear el gráfico de la FDA\n",
    "ggplot(df, aes(x=height, y=fda)) +\n",
    "  geom_line(color=\"blue\") +\n",
    "  labs(title=\"Función de Distribución Acumulada (sexo masculino)\", x=\"Altura (pulgadas)\", y=\"FDA\")\n",
    "\n"
   ]
  },
  {
   "attachments": {},
   "cell_type": "markdown",
   "metadata": {},
   "source": [
    "Similar a lo que hace la tabla de frecuencias para datos categóricos, la CDF define la distribución de datos numéricos. En el gráfico, podemos ver que 16% de los valores son menos\n",
    "de 65, ya que 𝐹(66) = 0.164. De hecho, podemos informar la proporción de valores entre dos alturas, digamos 𝑎 y 𝑏, al calcular $$𝐹(𝑏) − 𝐹(𝑎)$$."
   ]
  },
  {
   "attachments": {},
   "cell_type": "markdown",
   "metadata": {},
   "source": [
    "> Debido a que las CDF pueden definirse matemáticamente, la palabra empírica se añade para distinguir cuando se usan los datos.\n",
    "> Por lo tanto, utilizamos el término eCDF por sus siglas en inglés"
   ]
  },
  {
   "attachments": {},
   "cell_type": "markdown",
   "metadata": {},
   "source": [
    "Los histogramas sacrifican solo un poco de información para producir gráficos que son mucho más fáciles de interpretar.\n",
    "La forma más sencilla de hacer un histograma es dividir el span de nuestros datos en compartimientos (bins en inglés) no superpuestos del mismo tamaño. Entonces para cada compartimiento, contamos el número de valores que se encuentran en ese intervalo. El histograma gráfica estos conteos como barras con la base de la barra definida por los intervalos. A continuación tenemos el histograma para los datos de altura que dividen el rango de valores en intervalos de una pulgada:"
   ]
  },
  {
   "cell_type": "code",
   "execution_count": 10,
   "metadata": {
    "vscode": {
     "languageId": "r"
    }
   },
   "outputs": [
    {
     "name": "stderr",
     "output_type": "stream",
     "text": [
      "\u001b[1m\u001b[22m`stat_bin()` using `bins = 30`. Pick better value with `binwidth`.\n"
     ]
    },
    {
     "data": {
      "image/png": "[encoded data removed]",
      "text/plain": [
       "plot without title"
      ]
     },
     "metadata": {
      "image/png": {
       "height": 420,
       "width": 420
      }
     },
     "output_type": "display_data"
    }
   ],
   "source": [
    "# Filtrar los datos para incluir solo el sexo masculino\n",
    "heights_male <- subset(heights, sex == \"Male\")\n",
    "\n",
    "# Asegurarse de que la columna de altura es de tipo numeric\n",
    "heights_male$height <- as.numeric(heights_male$height)\n",
    "\n",
    "# Crear el histograma de alturas del sexo masculino\n",
    "ggplot(heights_male, aes(x=height)) +\n",
    "  geom_histogram(color=\"blue\") +\n",
    "  labs(title=\"Histograma de alturas (sexo masculino)\", x=\"Altura (pulgadas)\", y=\"Frecuencia\")\n"
   ]
  },
  {
   "attachments": {},
   "cell_type": "markdown",
   "metadata": {},
   "source": [
    "###  Densidad suave\n",
    "\n"
   ]
  },
  {
   "attachments": {},
   "cell_type": "markdown",
   "metadata": {},
   "source": [
    "Para entender las densidades suaves, tenemos que entender *estimadores*, El nuevo concepto principal que deben entender es que suponemos que nuestra lista de valores observados es un subconjunto de una lista mucho más grande de valores no observados. En el caso de las alturas, pueden imaginar que nuestra lista de 812 estudiantes varones proviene de una lista hipotética que contiene todas las alturas de todos los estudiantes varones en todo el mundo, medidos todos con mucha precision. Esta lista de valores tiene una distribución, como cualquier lista de valores, y esta distribución considerable es realmente lo que queremos transmitir.\n",
    "\n",
    "La suposición es que si mostramos esto, la altura de los compartimientos consecutivos será similar. Esto es lo que queremos decir con suave: no tenemos grandes saltos en las alturas de los compartimientos consecutivos.\n",
    "\n",
    "Entre más pequeños hacemos los compartimientos, más suave se vuelve el histograma. La densidad suave es básicamente la curva que atraviesa la parte superior de las barras del histograma cuando los compartimientos son muy, muy pequeños. Para que la curva no dependa del tamaño hipotético de la lista hipotética, calculamos la curva usando frecuencias en lugar de conteos.\n",
    "\n",
    "De hecho, podemos controlar la suavidad de la curva cambiando el número de puntos en los compartimientos. Esta opción se conoce como bandwidth, span, window size o, en español, ventana de suavizado o parámetro de suavizado, y se puede ajustar en la función que calcula la curva de densidad suave.\n",
    "\n",
    "Si bien el histograma es un resumen sin suposiciones, el gráfico de densidad suave está formado por suposiciones y elecciones que realiza como analista de datos."
   ]
  },
  {
   "attachments": {},
   "cell_type": "markdown",
   "metadata": {},
   "source": [
    "Tengan en cuenta que interpretar el eje-y de un gráfico de densidad suave no es obvio. Se escala para que el área bajo la curva de densidad se sume a 1. Si imaginan que formamos\n",
    "un compartimiento con una base de 1 unidad de longitud, el valor del eje-y nos indica la proporción de valores en ese compartimiento. Sin embargo, esto solo es cierto para compartimientos de tamaño 1. Para intervalos de otro tamaño, la mejor manera de determinar la proporción de datos en ese intervalo es calculando la proporción del área total contenida en ese intervalo.\n",
    "\n",
    "> una ventaja de las densidades suaves sobre los histogramas para fines de visualización es que las densidades facilitan la comparación de dos distribuciones. Esto se debe en gran parte a que los bordes irregulares del histograma añaden desorden."
   ]
  },
  {
   "attachments": {},
   "cell_type": "markdown",
   "metadata": {},
   "source": [
    "### Distribución normal"
   ]
  },
  {
   "attachments": {},
   "cell_type": "markdown",
   "metadata": {},
   "source": [
    "La distribución normal, también conocida como curva de campana y distribución Gaussiana, es uno de los conceptos matemáticos más famosos de la historia. Una razón para esto es que se producen distribuciones aproximadamente normales en muchas situaciones, incluyendo las ganancias de juego, las alturas, los pesos, la presión arterial, las puntuaciones en las pruebas estandarizadas y los errores de medición experimentales.\n",
    "\n",
    "En vez de usar datos, la distribución normal se define con una fórmula matemática. Para cualquier intervalo (𝑎, 𝑏), la proporción de valores en ese intervalo se puede calcular utilizando esta fórmula:\n",
    "$$P(a < x < b) = \\int_a^b \\frac{1}{\\sqrt{2\\pi}s}e^{-\\frac{1}{2} (\\frac{x-m}{s})^2} dx$$\n",
    "\n",
    "𝑚 y 𝑠, se conocen respectivamente como el *promedio* (o la media) y la *desviación estándar* (SD por sus siglas en inglés) de la distribución.\n",
    "\n",
    "La distribución es simétrica, centrada en el promedio, y la mayoría de los valores (alrededor del 95%) están dentro de 2 SD del promedio. \n",
    "\n"
   ]
  },
  {
   "attachments": {},
   "cell_type": "markdown",
   "metadata": {},
   "source": [
    "> Si la distribución de un set de datos se puede aproximar con una distribución normal, toda la información necesaria para describir la distribución se puede codificar con el promedio y la desviación estándar."
   ]
  },
  {
   "attachments": {},
   "cell_type": "markdown",
   "metadata": {},
   "source": [
    "### Unidades estándar"
   ]
  },
  {
   "attachments": {},
   "cell_type": "markdown",
   "metadata": {},
   "source": [
    "La unidad estándar de un valor nos dice cuántas desviaciones estándar se alejan del promedio. Específicamente, para un valor $x$ de un vector $X$, definimos el valor de $x$ en unidades estándar como $z = \\frac{(x - m)}{s}$ con $m$ y $s$ el promedio y la desviación estándar de $X$, respectivamente."
   ]
  },
  {
   "attachments": {},
   "cell_type": "markdown",
   "metadata": {},
   "source": [
    "#### ¿Por qué es conveniente trabajar con unidades estándar?\n",
    "\n",
    "En nuestra formula podemos rápidamente notar que podemos escribir la exponencial en términos de z de la siguiente forma:\n",
    "\n",
    "$$\n",
    "e^{-\\frac{z^2}{2}}\n",
    "$$\n",
    "\n",
    "- $e^{-\\frac{z^2}{2}}$ obtiene su máximo para $z = 0$, esto muestra porque la distribución ocurre en el promedio.\n",
    "- $-\\frac{z^2}{2}$ es simétrico alrededor de $z = 0$, lo que explica la simetría de la distribución.\n",
    "- Si convertimos nuestros datos distribuidos normalmente en unidades estándar, podremos saber si una persona es aproximadamente promedio $(z = 0)$, esta ente los mas altos $(z \\approx 2)$, entre los mas bajos $(z \\approx -2)$\n",
    "\n",
    "> Estas reglas se aplican a cualquier dato que es aproximadamente normal, sin importar las unidades."
   ]
  },
  {
   "cell_type": "code",
   "execution_count": 11,
   "metadata": {
    "vscode": {
     "languageId": "r"
    }
   },
   "outputs": [
    {
     "data": {
      "text/html": [
       "<table class=\"dataframe\">\n",
       "<caption>A matrix: 2 × 2 of type dbl</caption>\n",
       "<thead>\n",
       "\t<tr><th></th><th scope=col>manual</th><th scope=col>funciones</th></tr>\n",
       "</thead>\n",
       "<tbody>\n",
       "\t<tr><th scope=row>media</th><td>69.314755</td><td>69.314755</td></tr>\n",
       "\t<tr><th scope=row>SD</th><td> 3.608799</td><td> 3.611024</td></tr>\n",
       "</tbody>\n",
       "</table>\n"
      ],
      "text/latex": [
       "A matrix: 2 × 2 of type dbl\n",
       "\\begin{tabular}{r|ll}\n",
       "  & manual & funciones\\\\\n",
       "\\hline\n",
       "\tmedia & 69.314755 & 69.314755\\\\\n",
       "\tSD &  3.608799 &  3.611024\\\\\n",
       "\\end{tabular}\n"
      ],
      "text/markdown": [
       "\n",
       "A matrix: 2 × 2 of type dbl\n",
       "\n",
       "| <!--/--> | manual | funciones |\n",
       "|---|---|---|\n",
       "| media | 69.314755 | 69.314755 |\n",
       "| SD |  3.608799 |  3.611024 |\n",
       "\n"
      ],
      "text/plain": [
       "      manual    funciones\n",
       "media 69.314755 69.314755\n",
       "SD     3.608799  3.611024"
      ]
     },
     "metadata": {},
     "output_type": "display_data"
    }
   ],
   "source": [
    "# Definamos x como un vector con las alturas de los hombres\n",
    "index = heights$sex==\"Male\"\n",
    "x = heights$height[index]\n",
    "# Calculamos la media y la desviación estándar de manera manual\n",
    "media_manual = sum(x)/length(x)\n",
    "sd_manual = sqrt(sum((x-media_manual)^2)/length(x))\n",
    "manual = c(media = media_manual, SD = sd_manual)\n",
    "# Calculamos la media y la desviación estándar con las funciones mean() y sd()\n",
    "media_funciones = mean(x)\n",
    "sd_funciones = sd(x)\n",
    "funciones = c(media = media_funciones, SD = sd_funciones)\n",
    "# Mostramos los resultados\n",
    "cbind(manual, funciones)"
   ]
  },
  {
   "cell_type": "code",
   "execution_count": 12,
   "metadata": {
    "vscode": {
     "languageId": "r"
    }
   },
   "outputs": [
    {
     "data": {
      "text/html": [
       "0.949507389162562"
      ],
      "text/latex": [
       "0.949507389162562"
      ],
      "text/markdown": [
       "0.949507389162562"
      ],
      "text/plain": [
       "[1] 0.9495074"
      ]
     },
     "metadata": {},
     "output_type": "display_data"
    }
   ],
   "source": [
    "# Calculamos las unidades estándar\n",
    "z = scale(x)\n",
    "# ver la proporción de hombres que hay dentro de 2 SD del promedio\n",
    "mean(abs(z) < 2)"
   ]
  },
  {
   "attachments": {},
   "cell_type": "markdown",
   "metadata": {},
   "source": [
    "¡La proporción es aproximadamente 95%, que es lo que predice la distribución normal!"
   ]
  },
  {
   "attachments": {},
   "cell_type": "markdown",
   "metadata": {},
   "source": [
    "### Distribuciones teóricas continuas"
   ]
  },
  {
   "attachments": {},
   "cell_type": "markdown",
   "metadata": {},
   "source": [
    "La distribución normal se presenta como una aproximación útil a muchas distribuciones naturales, incluyendo la altura. La distribución acumulada para la distribución normal se define mediante una fórmula matemática que en R se puede obtener con la función `pnorm`. \n",
    "\n",
    "Decimos que una cantidad aleatoria se distribuye normalmente con promedio $m$ y desviación estándar $s$ si su distribución de probabilidad se define por:\n",
    "\n",
    "$F(a) = \\text{pnorm}(a, m,s)$ \n",
    "\n",
    "Esto es útil porque si estamos dispuestos a usar la aproximación normal para, por ejemplo, la altura, para responder a preguntas como: ¿Cuál es la probabilidad de que un estudiante seleccionado al azar sea más alto que 70 pulgadas? Solo necesitamos la altura promedio y la desviación estándar:"
   ]
  },
  {
   "cell_type": "code",
   "execution_count": 13,
   "metadata": {
    "vscode": {
     "languageId": "r"
    }
   },
   "outputs": [
    {
     "data": {
      "image/png": "[encoded data removed]",
      "text/plain": [
       "plot without title"
      ]
     },
     "metadata": {
      "image/png": {
       "height": 420,
       "width": 420
      }
     },
     "output_type": "display_data"
    }
   ],
   "source": [
    "# Graficamos la distribución de las alturas\n",
    "plot(prop.table(table(x)), xlab = \"a = Height in inches\", ylab = \"Pr(x = a)\")"
   ]
  },
  {
   "cell_type": "code",
   "execution_count": 14,
   "metadata": {
    "vscode": {
     "languageId": "r"
    }
   },
   "outputs": [
    {
     "data": {
      "text/html": [
       "0.371369013278474"
      ],
      "text/latex": [
       "0.371369013278474"
      ],
      "text/markdown": [
       "0.371369013278474"
      ],
      "text/plain": [
       "[1] 0.371369"
      ]
     },
     "metadata": {},
     "output_type": "display_data"
    }
   ],
   "source": [
    "# calculamos la probabilidad de que un hombre tenga una altura mayor a 70 pulgadas\n",
    "1 - pnorm(70.5, mean(heights_male$height), sd(heights_male$height))"
   ]
  },
  {
   "attachments": {},
   "cell_type": "markdown",
   "metadata": {},
   "source": [
    "Con distribuciones continuas, la probabilidad de un valor singular no se define. \n",
    "\n",
    "En cambio, definimos probabilidades para intervalos. Por lo tanto, podríamos preguntar cuál es la probabilidad de que alguien mida entre 69.5 y 70.5.\n",
    "\n",
    "En casos como la altura, en los que los datos se redondean, la aproximación normal es particularmente útil si estamos trabajando con intervalos que incluyen exactamente un número redondo. Por ejemplo, la distribución normal es útil para aproximar la proporción de estudiantes que indican valores en intervalos como los tres siguientes:"
   ]
  },
  {
   "cell_type": "code",
   "execution_count": 15,
   "metadata": {
    "vscode": {
     "languageId": "r"
    }
   },
   "outputs": [
    {
     "data": {
      "text/html": [
       "0.114532019704433"
      ],
      "text/latex": [
       "0.114532019704433"
      ],
      "text/markdown": [
       "0.114532019704433"
      ],
      "text/plain": [
       "[1] 0.114532"
      ]
     },
     "metadata": {},
     "output_type": "display_data"
    },
    {
     "data": {
      "text/html": [
       "0.119458128078818"
      ],
      "text/latex": [
       "0.119458128078818"
      ],
      "text/markdown": [
       "0.119458128078818"
      ],
      "text/plain": [
       "[1] 0.1194581"
      ]
     },
     "metadata": {},
     "output_type": "display_data"
    },
    {
     "data": {
      "text/html": [
       "0.12192118226601"
      ],
      "text/latex": [
       "0.12192118226601"
      ],
      "text/markdown": [
       "0.12192118226601"
      ],
      "text/plain": [
       "[1] 0.1219212"
      ]
     },
     "metadata": {},
     "output_type": "display_data"
    }
   ],
   "source": [
    "mean(x <= 68.5) - mean(x <= 67.5)\n",
    "mean(x <= 69.5) - mean(x <= 68.5)\n",
    "mean(x <= 70.5) - mean(x <= 69.5)"
   ]
  },
  {
   "attachments": {},
   "cell_type": "markdown",
   "metadata": {},
   "source": [
    "Nos acercamos mucho con la aproximación normal"
   ]
  },
  {
   "cell_type": "code",
   "execution_count": 16,
   "metadata": {
    "vscode": {
     "languageId": "r"
    }
   },
   "outputs": [
    {
     "data": {
      "text/html": [
       "0.103107700722601"
      ],
      "text/latex": [
       "0.103107700722601"
      ],
      "text/markdown": [
       "0.103107700722601"
      ],
      "text/plain": [
       "[1] 0.1031077"
      ]
     },
     "metadata": {},
     "output_type": "display_data"
    },
    {
     "data": {
      "text/html": [
       "0.109712077150593"
      ],
      "text/latex": [
       "0.109712077150593"
      ],
      "text/markdown": [
       "0.109712077150593"
      ],
      "text/plain": [
       "[1] 0.1097121"
      ]
     },
     "metadata": {},
     "output_type": "display_data"
    },
    {
     "data": {
      "text/html": [
       "0.108174271080828"
      ],
      "text/latex": [
       "0.108174271080828"
      ],
      "text/markdown": [
       "0.108174271080828"
      ],
      "text/plain": [
       "[1] 0.1081743"
      ]
     },
     "metadata": {},
     "output_type": "display_data"
    }
   ],
   "source": [
    "m <- mean(x)\n",
    "s <- sd(x)\n",
    "pnorm(68.5, m, s) - pnorm(67.5, m, s)\n",
    "pnorm(69.5, m, s) - pnorm(68.5, m, s)\n",
    "pnorm(70.5, m, s) - pnorm(69.5, m, s)"
   ]
  },
  {
   "attachments": {},
   "cell_type": "markdown",
   "metadata": {},
   "source": [
    "Sin embargo, la aproximación no es tan útil para otros intervalos. Por ejemplo, observen cómo se descompone la aproximación cuando intentamos estimar:"
   ]
  },
  {
   "cell_type": "code",
   "execution_count": 17,
   "metadata": {
    "vscode": {
     "languageId": "r"
    }
   },
   "outputs": [
    {
     "data": {
      "text/html": [
       "0.0221674876847291"
      ],
      "text/latex": [
       "0.0221674876847291"
      ],
      "text/markdown": [
       "0.0221674876847291"
      ],
      "text/plain": [
       "[1] 0.02216749"
      ]
     },
     "metadata": {},
     "output_type": "display_data"
    },
    {
     "data": {
      "text/html": [
       "0.0835956178162536"
      ],
      "text/latex": [
       "0.0835956178162536"
      ],
      "text/markdown": [
       "0.0835956178162536"
      ],
      "text/plain": [
       "[1] 0.08359562"
      ]
     },
     "metadata": {},
     "output_type": "display_data"
    }
   ],
   "source": [
    "mean(x <= 70.9) - mean(x<=70.1)\n",
    "pnorm(70.9, m, s) - pnorm(70.1, m, s)"
   ]
  },
  {
   "attachments": {},
   "cell_type": "markdown",
   "metadata": {},
   "source": [
    "En general, llamamos a esta situación *discretización*. Aunque la distribución de altura real es continua, las alturas reportadas tienden a ser más comunes en valores discretos, en este caso, debido al redondeo. Con tal que sepamos cómo lidiar con esta realidad, la aproximación normal puede ser una herramienta muy útil."
   ]
  },
  {
   "attachments": {},
   "cell_type": "markdown",
   "metadata": {},
   "source": [
    "## Evaluación 1.2"
   ]
  },
  {
   "attachments": {},
   "cell_type": "markdown",
   "metadata": {},
   "source": [
    "### Ejercicio 1: Proporciones\n",
    "\n",
    "Cargue el set de datos de altura y cree un vector x con solo las alturas masculinas:\n",
    "```\n",
    "library(dslabs)\n",
    "data(heights)\n",
    "x <- heights$height[heights$sex==\"Male\"\n",
    "```\n",
    "¿Qué proporción de los datos está entre 69 y 72 pulgadas (más alto que 69, pero más bajo o igual a 72)? Sugerencia: use un operador lógico y `mean`"
   ]
  },
  {
   "cell_type": "code",
   "execution_count": 18,
   "metadata": {
    "vscode": {
     "languageId": "r"
    }
   },
   "outputs": [
    {
     "name": "stdout",
     "output_type": "stream",
     "text": [
      "[1] 0.3337438\n"
     ]
    }
   ],
   "source": [
    "source(\"Scripts/1-2/Ejercicio1.R\", print.eval = TRUE)"
   ]
  },
  {
   "attachments": {},
   "cell_type": "markdown",
   "metadata": {},
   "source": [
    "### Ejercicio 2: Promedios y desviaciones estándar\n",
    "\n",
    "Supongan que lo único que sabe sobre los datos es el promedio y la desviación estándar. Use la aproximación normal para estimar la proporción que acaba de calcular. Sugerencia:\n",
    "comience calculando el promedio y la desviación estándar. Luego use la función `pnorm` para predecir las proporciones."
   ]
  },
  {
   "cell_type": "code",
   "execution_count": 19,
   "metadata": {
    "vscode": {
     "languageId": "r"
    }
   },
   "outputs": [
    {
     "name": "stdout",
     "output_type": "stream",
     "text": [
      "[1] 0.3061779\n"
     ]
    }
   ],
   "source": [
    "source(\"Scripts/1-2/Ejercicio2.R\", print.eval = TRUE)"
   ]
  },
  {
   "attachments": {},
   "cell_type": "markdown",
   "metadata": {},
   "source": [
    "### Ejercicio 3: Aproximaciones\n",
    "\n",
    "Note que la aproximación calculada en la pregunta nueve está muy cerca del cálculo exacto en la primera pregunta. Ahora realice la misma tarea para valores más atípicos.\n",
    "Compare el cálculo exacto y la aproximación normal para el intervalo (79,81]. ¿Cuántas veces mayor es la proporción real que la aproximación?"
   ]
  },
  {
   "cell_type": "code",
   "execution_count": 20,
   "metadata": {
    "vscode": {
     "languageId": "r"
    }
   },
   "outputs": [
    {
     "name": "stdout",
     "output_type": "stream",
     "text": [
      "[1] 1.614261\n"
     ]
    }
   ],
   "source": [
    "source(\"Scripts/1-2/Ejercicio3.R\", print.eval = TRUE)"
   ]
  },
  {
   "attachments": {},
   "cell_type": "markdown",
   "metadata": {},
   "source": [
    "### Ejercicio 4: Seven footers y la NBA\n",
    "Alguien te pregunta qué porcentaje de jugadores de siete pies hay en la Asociación Nacional de Baloncesto (NBA). ¿Puede proporcionar una estimación? Intentemos usar la aproximación normal para responder esta pregunta.\n",
    "\n",
    "Dada una distribución normal con media `mu` y desviación estándar `sigma`, puede calcular la proporción de observaciones menores o iguales a cierto valor con `pnorm(valor, mu, sigma)`. Observe que este es el CDF para la distribución normal.\n",
    "\n",
    "Primero, estimaremos la proporción de hombres adultos que miden más de 7 pies.\n",
    "\n",
    "Suponga que la distribución de hombres adultos en el mundo se distribuye normalmente con un promedio de 69 pulgadas y una desviación estándar de 3 pulgadas."
   ]
  },
  {
   "cell_type": "code",
   "execution_count": 21,
   "metadata": {
    "vscode": {
     "languageId": "r"
    }
   },
   "outputs": [
    {
     "name": "stdout",
     "output_type": "stream",
     "text": [
      "[1] 1.279865e-12\n"
     ]
    }
   ],
   "source": [
    "source(\"Scripts/1-2/Ejercicio4.R\", print.eval = TRUE)"
   ]
  },
  {
   "attachments": {},
   "cell_type": "markdown",
   "metadata": {},
   "source": [
    "### Ejercicio 5: Estimación del número de seven footers\n",
    "\n",
    "Ahora tenemos una aproximación para la proporción, llámala `p`, de hombres que miden 7 pies o más.\n",
    "\n",
    "Sabemos que hay alrededor de mil millones de hombres entre 18 y 40 años en el mundo, el rango de edad de la NBA.\n",
    "\n",
    "¿Podemos usar la distribución normal para estimar cuántos de estos mil millones de hombres miden al menos siete pies de altura?"
   ]
  },
  {
   "cell_type": "code",
   "execution_count": 22,
   "metadata": {
    "vscode": {
     "languageId": "r"
    }
   },
   "outputs": [
    {
     "name": "stdout",
     "output_type": "stream",
     "text": [
      "[1] 287\n"
     ]
    }
   ],
   "source": [
    "source(\"Scripts/1-2/Ejercicio5.R\", print.eval = TRUE)"
   ]
  },
  {
   "attachments": {},
   "cell_type": "markdown",
   "metadata": {},
   "source": [
    "### Ejercicio 6: Cuantos seven footers hay en la NBA?\n",
    "\n",
    "Hay alrededor de 10 jugadores de la Asociación Nacional de Baloncesto (NBA) que miden 7 pies de altura o más. Usando la respuesta a las dos preguntas anteriores, ¿Qué proporción\n",
    "de los seven footers del mundo, entre 18 a 40 años, están en la NBA?"
   ]
  },
  {
   "cell_type": "code",
   "execution_count": 23,
   "metadata": {
    "vscode": {
     "languageId": "r"
    }
   },
   "outputs": [
    {
     "name": "stdout",
     "output_type": "stream",
     "text": [
      "[1] 0.03484321\n"
     ]
    }
   ],
   "source": [
    "source(\"Scripts/1-2/Ejercicio6.R\", print.eval = TRUE)"
   ]
  },
  {
   "attachments": {},
   "cell_type": "markdown",
   "metadata": {},
   "source": [
    "### Ejercicio 7: Altura de Lebron James\n",
    "\n",
    "Repita los cálculos realizados en la pregunta anterior para la altura del basquetbolista Lebron James: 6 pies y 8 pulgadas. Hay alrededor de 150 jugadores que son al menos tan\n",
    "altos."
   ]
  },
  {
   "cell_type": "code",
   "execution_count": 24,
   "metadata": {
    "vscode": {
     "languageId": "r"
    }
   },
   "outputs": [
    {
     "name": "stdout",
     "output_type": "stream",
     "text": [
      "[1] 0.001220842\n"
     ]
    }
   ],
   "source": [
    "source(\"Scripts/1-2/Ejercicio7.R\", print.eval = TRUE)"
   ]
  }
 ],
 "metadata": {
  "kernelspec": {
   "display_name": "R",
   "language": "R",
   "name": "ir"
  },
  "language_info": {
   "codemirror_mode": "r",
   "file_extension": ".r",
   "mimetype": "text/x-r-source",
   "name": "R",
   "pygments_lexer": "r",
   "version": "4.2.2"
  },
  "orig_nbformat": 4
 },
 "nbformat": 4,
 "nbformat_minor": 2
}
